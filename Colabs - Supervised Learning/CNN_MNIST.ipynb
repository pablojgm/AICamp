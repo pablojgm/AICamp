{
  "nbformat": 4,
  "nbformat_minor": 0,
  "metadata": {
    "colab": {
      "name": "CNN_MNIST.ipynb",
      "provenance": [],
      "collapsed_sections": []
    },
    "kernelspec": {
      "name": "python3",
      "display_name": "Python 3"
    }
  },
  "cells": [
    {
      "cell_type": "markdown",
      "metadata": {
        "id": "0539Pwt1Ygwz"
      },
      "source": [
        "# Project objective\n",
        "In this project, we build a convolutional neural network model for classification of images of hand-written digits in MNIST dataset. \n",
        "\n",
        "Information about the dataset, some technical details about the used machine learning method(s) and mathematical details of the quantifications approaches are provided in the code. "
      ]
    },
    {
      "cell_type": "markdown",
      "metadata": {
        "id": "VjtJFxdsNh05"
      },
      "source": [
        "# Packages we work with in this notebook\n",
        "We are going to use the following libraries and packages:\n",
        "\n",
        "* **numpy**: NumPy is the fundamental package for scientific computing with Python. (http://www.numpy.org/)\n",
        "* **sklearn**: Scikit-learn is a machine learning library for Python programming language. (https://scikit-learn.org/stable/)\n",
        "* **keras**: keras is a widely-used neural network framework in python. "
      ]
    },
    {
      "cell_type": "code",
      "metadata": {
        "id": "57oB2idEgr-g"
      },
      "source": [
        "import numpy as np\n",
        "import keras "
      ],
      "execution_count": null,
      "outputs": []
    },
    {
      "cell_type": "markdown",
      "metadata": {
        "id": "Bb1Zm7ARN5D5"
      },
      "source": [
        "# Introduction to the dataset\n",
        "\n",
        "**Name**: MNIST hand-writtent digits\n",
        "\n",
        "**Summary**: Recognizing hand-written digits  \n",
        "\n",
        "**number of features**: 28 pixels in rows and 28 pixels in columns \n",
        "\n",
        "**Number of data points (instances)**: 70,000 (60,000 for trainign and 10,000 for test set)\n",
        "\n",
        "**dataset accessibility**: Dataset is available as part of keras (https://keras.io/api/datasets/)\n",
        "\n",
        "\n"
      ]
    },
    {
      "cell_type": "markdown",
      "metadata": {
        "id": "QjBnejgpP0Gr"
      },
      "source": [
        "## Importing the dataset and splitting the data training and testing sets\n",
        "We can easily load the data from keras. We need to then split the data to train and test, if we do not have a separate dataset for validation and/or testing, to make sure about generalizability of the model we train. However, the splitting also has been already taken care of in keras. So we can load the data as trainig and test sets."
      ]
    },
    {
      "cell_type": "code",
      "metadata": {
        "id": "RILQWrhjQUtF"
      },
      "source": [
        "from keras.datasets import mnist\n",
        "#download mnist data and split into train and test sets\n",
        "(X_train, y_train), (X_test, y_test) = mnist.load_data()"
      ],
      "execution_count": null,
      "outputs": []
    },
    {
      "cell_type": "markdown",
      "metadata": {
        "id": "qW4bVMDCdPVW"
      },
      "source": [
        "## Making sure about the dataset characteristics (number of data points and features)"
      ]
    },
    {
      "cell_type": "code",
      "metadata": {
        "id": "TpSupKvgdS3e",
        "colab": {
          "base_uri": "https://localhost:8080/"
        },
        "outputId": "2205b4ef-38af-4aee-885a-2d6b482cbb4f"
      },
      "source": [
        "print('Shapes of the images: {}'.format(X_train[0].shape))"
      ],
      "execution_count": null,
      "outputs": [
        {
          "output_type": "stream",
          "text": [
            "Shapes of the images: (28, 28)\n"
          ],
          "name": "stdout"
        }
      ]
    },
    {
      "cell_type": "markdown",
      "metadata": {
        "id": "UIX-LbyLeEc6"
      },
      "source": [
        "## Data preparation\n",
        "We need to prepare the dataset for machine learnign modeling. Here we prepare the data in 2 steps:\n",
        "\n",
        "1) Reshaping input features (pixels of images) to the shape that we can later use in the modeling.\n",
        "\n",
        "2) Converting the integer array of labels to one-hot encodings to be used in neural network modeling"
      ]
    },
    {
      "cell_type": "code",
      "metadata": {
        "id": "8GI52MUkePCR",
        "colab": {
          "base_uri": "https://localhost:8080/"
        },
        "outputId": "6bd64101-9fad-40bf-9911-9c362eab7615"
      },
      "source": [
        "#reshape data to fit model\n",
        "# Interpretation of the numbers in the reshape function\n",
        "# 1) number of data points (images)\n",
        "# 2 and 3) number of pixels in rows and columns\n",
        "# 4) 1 stands for greyscale\n",
        "X_train = X_train.reshape(60000,28,28,1)\n",
        "X_test = X_test.reshape(10000,28,28,1)\n",
        "\n",
        "\n",
        "from keras.utils import to_categorical\n",
        "#one-hot encode target column\n",
        "y_train = to_categorical(y_train)\n",
        "y_test = to_categorical(y_test)\n",
        "print('One hot vector of the first image in the training set: {}'.format(y_train[0]))"
      ],
      "execution_count": null,
      "outputs": [
        {
          "output_type": "stream",
          "text": [
            "One hot vector of the first image in the training set: [0. 0. 0. 0. 0. 1. 0. 0. 0. 0.]\n"
          ],
          "name": "stdout"
        }
      ]
    },
    {
      "cell_type": "markdown",
      "metadata": {
        "id": "d0Fi1jpVkbhC"
      },
      "source": [
        "## Building the supervised learning model\n",
        "We want to build a multi-class classification model as the output variable include multiple classes. \n",
        "\n",
        "\n",
        "Here we build a neural network model with 2 hidden layers. A neural network with 2 or more hidden layers are called deep neural network. So technical it is a deep learning code. As you can see the implementation of a deep learning model is not difficult. But knowing how to interpret it, how to fine-tune the model and avoid overfitting are the parts that need experience and more knowledge.\n",
        "\n",
        "\n",
        "### Convolutional neural network\n"
      ]
    },
    {
      "cell_type": "code",
      "metadata": {
        "id": "fj3SSteMkxb2"
      },
      "source": [
        "from keras.models import Sequential\n",
        "from keras.layers import Dense, Conv2D, Flatten\n",
        "# building a neural network model\n",
        "model = Sequential()\n",
        "\n",
        "# Adding 1st hidden layer with 32 as the number of output filters in the convolution\n",
        "# input_dim should be specified as the number of input features\n",
        "# kernel_size is the size of the convolutional filters. Here we are using 3*3 filteres.\n",
        "model.add(Conv2D(32, kernel_size=5, activation='relu', input_shape=(28,28,1)))\n",
        "\n",
        "# Adding 2nd hidden layer with 16 as the number of output filters in the convolution\n",
        "model.add(Conv2D(16, kernel_size=3, activation='relu'))\n",
        "\n",
        "# We want to flatten the image shape matrices of the last hidden layer\n",
        "# and then use the results in the output layer\n",
        "model.add(Flatten())\n",
        "\n",
        "# adding the output layer (softmax is used to generate probabilities for each predicted class)\n",
        "# Size if the last layer should be equal to the total number of classes in the dataset which is 10\n",
        "model.add(Dense(10, activation='softmax'))\n",
        "\n",
        "# compiling the model using cross-entropy for categorical variables,\n",
        "# as we are dealing with multi-class classification\n",
        "# Adam optimization algorithm is also used\n",
        "# Accuracy is used as the metric to assess performance of our model\n",
        "model.compile(loss='categorical_crossentropy', optimizer='adam', metrics=['accuracy'])"
      ],
      "execution_count": null,
      "outputs": []
    },
    {
      "cell_type": "markdown",
      "metadata": {
        "id": "fgszolas0q7X"
      },
      "source": [
        "Now we fit our neural network model using the training set:"
      ]
    },
    {
      "cell_type": "code",
      "metadata": {
        "id": "Od9xWVWhzp28",
        "colab": {
          "base_uri": "https://localhost:8080/"
        },
        "outputId": "14a45927-4bcf-4b86-d3f8-b2c3cf8fb8c4"
      },
      "source": [
        "# Train the model using the training set\n",
        "# We can also check the performance of the model after every epoch on the validation set. \n",
        "# Here we use the test set of MNIST dataset to check the performance on the validation set.\n",
        "model.fit(X_train, y_train, validation_data=(X_test, y_test), epochs=4)\n"
      ],
      "execution_count": null,
      "outputs": [
        {
          "output_type": "stream",
          "text": [
            "Epoch 1/4\n",
            "1875/1875 [==============================] - 74s 39ms/step - loss: 0.3261 - accuracy: 0.9396 - val_loss: 0.0959 - val_accuracy: 0.9713\n",
            "Epoch 2/4\n",
            "1875/1875 [==============================] - 73s 39ms/step - loss: 0.0742 - accuracy: 0.9784 - val_loss: 0.0795 - val_accuracy: 0.9758\n",
            "Epoch 3/4\n",
            "1875/1875 [==============================] - 73s 39ms/step - loss: 0.0582 - accuracy: 0.9824 - val_loss: 0.0821 - val_accuracy: 0.9777\n",
            "Epoch 4/4\n",
            "1875/1875 [==============================] - 73s 39ms/step - loss: 0.0476 - accuracy: 0.9859 - val_loss: 0.0943 - val_accuracy: 0.9758\n"
          ],
          "name": "stdout"
        },
        {
          "output_type": "execute_result",
          "data": {
            "text/plain": [
              "<tensorflow.python.keras.callbacks.History at 0x7f8f632c0748>"
            ]
          },
          "metadata": {
            "tags": []
          },
          "execution_count": 14
        }
      ]
    },
    {
      "cell_type": "markdown",
      "metadata": {
        "id": "vWb1aK68rGfT"
      },
      "source": [
        "***Note***. Accuracy of the model in the validation set is higher than training set after the first epoch. This is not something unusual. The model could perform better in teh validation set after the first few epochs as the number and distribution of datapoints are different between the trainign and validation sets. However, as the model gets better and better, trainign set accuracy goes abovevalidation set accuracy.\n",
        "\n",
        "**Early stopping**: The concept of early stopping tells us that we can stop when the validation loss starts increasing in a consistent way, not small increases due to oscillatory behavior of the optimization process. Hence, stopping the model after 4 epochs of training for this model would have been a good choice.\n",
        "\n",
        "The model is trained now and can be used to predict the lables of datapoints in the test set. To be able to assess the performance of the predictions in the test set using metrics class in sklearn, we need to transform the true lables and the predictions from one-hot encodings to lists."
      ]
    },
    {
      "cell_type": "code",
      "metadata": {
        "id": "xyBVyd9QqS4e"
      },
      "source": [
        "y_pred = model.predict(X_test)\n",
        "#Converting predictions to label\n",
        "pred = list()\n",
        "for i in range(len(y_pred)):\n",
        "    pred.append(np.argmax(y_pred[i]))\n",
        "#Converting one hot encoded test label to label\n",
        "test = list()\n",
        "for i in range(len(y_test)):\n",
        "    test.append(np.argmax(y_test[i]))"
      ],
      "execution_count": null,
      "outputs": []
    },
    {
      "cell_type": "markdown",
      "metadata": {
        "id": "C-Uby3AV1OID"
      },
      "source": [
        "## Evaluating performance of the model\n",
        "We need to assess performance of the model using the predictions of the test set. We use accuracy and balanced accuracy. Here are their definitions:\n",
        "\n",
        "* **recall** in this context is also referred to as the true positive rate or sensitivity\n",
        "\n",
        "How many relevant item are selected\n",
        "\n",
        "\n",
        "\n",
        "\n",
        "$${\\displaystyle {\\text{recall}}={\\frac {tp}{tp+fn}}\\,} $$\n",
        "\n",
        " \n",
        "\n",
        "* **specificity** true negative rate\n",
        "\n",
        "\n",
        "\n",
        "$${\\displaystyle {\\text{true negative rate}}={\\frac {tn}{tn+fp}}\\,}$$\n",
        "\n",
        "* **accuracy**: This measure gives you a sense of performance for all the classes together as follows:\n",
        "\n",
        "$$ {\\displaystyle {\\text{accuracy}}={\\frac {tp+tn}{tp+tn+fp+fn}}\\,}$$\n",
        "\n",
        "\n",
        "\\begin{equation*} accuracy=\\frac{number\\:of\\:correct\\:predictions}{(total\\:number\\:of\\:data\\:points (samples))} \\end{equation*}\n",
        "\n",
        "\n",
        "* **balanced accuracy**: This measure gives you a sense of performance for all the classes together as follows:\n",
        "\n",
        "$${\\displaystyle {\\text{balanced accuracy}}={\\frac {recall+specificity\n",
        "}{2}}\\,}$$\n"
      ]
    },
    {
      "cell_type": "code",
      "metadata": {
        "id": "kdDOtXow1CKT",
        "colab": {
          "base_uri": "https://localhost:8080/"
        },
        "outputId": "aebc987e-5901-4e9d-f04a-02232c7a2946"
      },
      "source": [
        "from sklearn import metrics\n",
        "\n",
        "print('Accuracy of the neural network model is:', metrics.accuracy_score(pred,test)*100)\n",
        "\n",
        "print(\"Blanced accuracy of the neural network model is:\", metrics.balanced_accuracy_score(pred, test))"
      ],
      "execution_count": null,
      "outputs": [
        {
          "output_type": "stream",
          "text": [
            "Accuracy of the neural network model is: 97.58\n",
            "Blanced accuracy of the neural network model is: 0.9757989958290313\n"
          ],
          "name": "stdout"
        }
      ]
    }
  ]
}