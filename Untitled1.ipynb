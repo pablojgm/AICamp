{
  "nbformat": 4,
  "nbformat_minor": 0,
  "metadata": {
    "colab": {
      "name": "Untitled1.ipynb",
      "provenance": [],
      "collapsed_sections": [],
      "authorship_tag": "ABX9TyMD1AtvcaBdot/y+EavDGge",
      "include_colab_link": true
    },
    "kernelspec": {
      "name": "python3",
      "display_name": "Python 3"
    }
  },
  "cells": [
    {
      "cell_type": "markdown",
      "metadata": {
        "id": "view-in-github",
        "colab_type": "text"
      },
      "source": [
        "<a href=\"https://colab.research.google.com/github/pablojgm/AICamp/blob/main/Untitled1.ipynb\" target=\"_parent\"><img src=\"https://colab.research.google.com/assets/colab-badge.svg\" alt=\"Open In Colab\"/></a>"
      ]
    },
    {
      "cell_type": "markdown",
      "metadata": {
        "id": "cL5SWf0zb9hv"
      },
      "source": [
        "Milestone Project - Facebook dataset\n",
        "\n",
        "Step 1:\n",
        "You need to implement two important tasks in this step:\n",
        "  1) Read the data files in each dataset and prepare them as dataframes.\n",
        "  2) Implement three supervised machine learning methods on each dataset including\n",
        "      a) Regression\n",
        "      b) Random forest \n",
        "      c) k-NN\n",
        "\n",
        "Step 2​:\n",
        "You need to practice two important tasks in this step:\n",
        "  1) Implement the following dimensionality reduction methods on each one of these datasets\n",
        "      a) PCA \n",
        "      b) t-SNE \n",
        "      c) UMAP\n",
        "  2) Implement PCA and then implement three supervised machine learning methods on each dataset including\n",
        "      a) Regression\n",
        "      b) Random forest \n",
        "      c) k-NN\n",
        "\n",
        "Step 3​:\n",
        "You need to practice clustering in this step:\n",
        "  1) Read the data files in each dataset and prepare them as data frames. \n",
        "  2) Implement different clustering on each dataset including"
      ]
    },
    {
      "cell_type": "markdown",
      "metadata": {
        "id": "kk1znprjpF4T"
      },
      "source": [
        "# STEP 1"
      ]
    },
    {
      "cell_type": "code",
      "metadata": {
        "colab": {
          "base_uri": "https://localhost:8080/",
          "height": 470
        },
        "id": "PC0nWxVae2uf",
        "outputId": "71dd61c9-1888-4c04-8cbd-35544145a36a"
      },
      "source": [
        "import numpy as np\n",
        "import matplotlib.pyplot as plt\n",
        "import pandas as pd\n",
        "\n",
        "url = \"https://archive.ics.uci.edu/ml/machine-learning-databases/00488/Live_20210128.csv\"\n",
        "dataset = pd.read_csv(url,index_col=0)\n",
        "\n",
        "dataset"
      ],
      "execution_count": 72,
      "outputs": [
        {
          "output_type": "execute_result",
          "data": {
            "text/html": [
              "<div>\n",
              "<style scoped>\n",
              "    .dataframe tbody tr th:only-of-type {\n",
              "        vertical-align: middle;\n",
              "    }\n",
              "\n",
              "    .dataframe tbody tr th {\n",
              "        vertical-align: top;\n",
              "    }\n",
              "\n",
              "    .dataframe thead th {\n",
              "        text-align: right;\n",
              "    }\n",
              "</style>\n",
              "<table border=\"1\" class=\"dataframe\">\n",
              "  <thead>\n",
              "    <tr style=\"text-align: right;\">\n",
              "      <th></th>\n",
              "      <th>status_type</th>\n",
              "      <th>status_published</th>\n",
              "      <th>num_reactions</th>\n",
              "      <th>num_comments</th>\n",
              "      <th>num_shares</th>\n",
              "      <th>num_likes</th>\n",
              "      <th>num_loves</th>\n",
              "      <th>num_wows</th>\n",
              "      <th>num_hahas</th>\n",
              "      <th>num_sads</th>\n",
              "      <th>num_angrys</th>\n",
              "      <th>Column1</th>\n",
              "      <th>Column2</th>\n",
              "      <th>Column3</th>\n",
              "      <th>Column4</th>\n",
              "    </tr>\n",
              "    <tr>\n",
              "      <th>status_id</th>\n",
              "      <th></th>\n",
              "      <th></th>\n",
              "      <th></th>\n",
              "      <th></th>\n",
              "      <th></th>\n",
              "      <th></th>\n",
              "      <th></th>\n",
              "      <th></th>\n",
              "      <th></th>\n",
              "      <th></th>\n",
              "      <th></th>\n",
              "      <th></th>\n",
              "      <th></th>\n",
              "      <th></th>\n",
              "      <th></th>\n",
              "    </tr>\n",
              "  </thead>\n",
              "  <tbody>\n",
              "    <tr>\n",
              "      <th>1</th>\n",
              "      <td>video</td>\n",
              "      <td>4/22/2018 6:00</td>\n",
              "      <td>529</td>\n",
              "      <td>512</td>\n",
              "      <td>262</td>\n",
              "      <td>432</td>\n",
              "      <td>92</td>\n",
              "      <td>3</td>\n",
              "      <td>1</td>\n",
              "      <td>1</td>\n",
              "      <td>0</td>\n",
              "      <td>NaN</td>\n",
              "      <td>NaN</td>\n",
              "      <td>NaN</td>\n",
              "      <td>NaN</td>\n",
              "    </tr>\n",
              "    <tr>\n",
              "      <th>2</th>\n",
              "      <td>photo</td>\n",
              "      <td>4/21/2018 22:45</td>\n",
              "      <td>150</td>\n",
              "      <td>0</td>\n",
              "      <td>0</td>\n",
              "      <td>150</td>\n",
              "      <td>0</td>\n",
              "      <td>0</td>\n",
              "      <td>0</td>\n",
              "      <td>0</td>\n",
              "      <td>0</td>\n",
              "      <td>NaN</td>\n",
              "      <td>NaN</td>\n",
              "      <td>NaN</td>\n",
              "      <td>NaN</td>\n",
              "    </tr>\n",
              "    <tr>\n",
              "      <th>3</th>\n",
              "      <td>video</td>\n",
              "      <td>4/21/2018 6:17</td>\n",
              "      <td>227</td>\n",
              "      <td>236</td>\n",
              "      <td>57</td>\n",
              "      <td>204</td>\n",
              "      <td>21</td>\n",
              "      <td>1</td>\n",
              "      <td>1</td>\n",
              "      <td>0</td>\n",
              "      <td>0</td>\n",
              "      <td>NaN</td>\n",
              "      <td>NaN</td>\n",
              "      <td>NaN</td>\n",
              "      <td>NaN</td>\n",
              "    </tr>\n",
              "    <tr>\n",
              "      <th>4</th>\n",
              "      <td>photo</td>\n",
              "      <td>4/21/2018 2:29</td>\n",
              "      <td>111</td>\n",
              "      <td>0</td>\n",
              "      <td>0</td>\n",
              "      <td>111</td>\n",
              "      <td>0</td>\n",
              "      <td>0</td>\n",
              "      <td>0</td>\n",
              "      <td>0</td>\n",
              "      <td>0</td>\n",
              "      <td>NaN</td>\n",
              "      <td>NaN</td>\n",
              "      <td>NaN</td>\n",
              "      <td>NaN</td>\n",
              "    </tr>\n",
              "    <tr>\n",
              "      <th>5</th>\n",
              "      <td>photo</td>\n",
              "      <td>4/18/2018 3:22</td>\n",
              "      <td>213</td>\n",
              "      <td>0</td>\n",
              "      <td>0</td>\n",
              "      <td>204</td>\n",
              "      <td>9</td>\n",
              "      <td>0</td>\n",
              "      <td>0</td>\n",
              "      <td>0</td>\n",
              "      <td>0</td>\n",
              "      <td>NaN</td>\n",
              "      <td>NaN</td>\n",
              "      <td>NaN</td>\n",
              "      <td>NaN</td>\n",
              "    </tr>\n",
              "    <tr>\n",
              "      <th>...</th>\n",
              "      <td>...</td>\n",
              "      <td>...</td>\n",
              "      <td>...</td>\n",
              "      <td>...</td>\n",
              "      <td>...</td>\n",
              "      <td>...</td>\n",
              "      <td>...</td>\n",
              "      <td>...</td>\n",
              "      <td>...</td>\n",
              "      <td>...</td>\n",
              "      <td>...</td>\n",
              "      <td>...</td>\n",
              "      <td>...</td>\n",
              "      <td>...</td>\n",
              "      <td>...</td>\n",
              "    </tr>\n",
              "    <tr>\n",
              "      <th>7046</th>\n",
              "      <td>photo</td>\n",
              "      <td>9/24/2016 2:58</td>\n",
              "      <td>89</td>\n",
              "      <td>0</td>\n",
              "      <td>0</td>\n",
              "      <td>89</td>\n",
              "      <td>0</td>\n",
              "      <td>0</td>\n",
              "      <td>0</td>\n",
              "      <td>0</td>\n",
              "      <td>0</td>\n",
              "      <td>NaN</td>\n",
              "      <td>NaN</td>\n",
              "      <td>NaN</td>\n",
              "      <td>NaN</td>\n",
              "    </tr>\n",
              "    <tr>\n",
              "      <th>7047</th>\n",
              "      <td>photo</td>\n",
              "      <td>9/23/2016 11:19</td>\n",
              "      <td>16</td>\n",
              "      <td>0</td>\n",
              "      <td>0</td>\n",
              "      <td>14</td>\n",
              "      <td>1</td>\n",
              "      <td>0</td>\n",
              "      <td>1</td>\n",
              "      <td>0</td>\n",
              "      <td>0</td>\n",
              "      <td>NaN</td>\n",
              "      <td>NaN</td>\n",
              "      <td>NaN</td>\n",
              "      <td>NaN</td>\n",
              "    </tr>\n",
              "    <tr>\n",
              "      <th>7048</th>\n",
              "      <td>photo</td>\n",
              "      <td>9/21/2016 23:03</td>\n",
              "      <td>2</td>\n",
              "      <td>0</td>\n",
              "      <td>0</td>\n",
              "      <td>1</td>\n",
              "      <td>1</td>\n",
              "      <td>0</td>\n",
              "      <td>0</td>\n",
              "      <td>0</td>\n",
              "      <td>0</td>\n",
              "      <td>NaN</td>\n",
              "      <td>NaN</td>\n",
              "      <td>NaN</td>\n",
              "      <td>NaN</td>\n",
              "    </tr>\n",
              "    <tr>\n",
              "      <th>7049</th>\n",
              "      <td>photo</td>\n",
              "      <td>9/20/2016 0:43</td>\n",
              "      <td>351</td>\n",
              "      <td>12</td>\n",
              "      <td>22</td>\n",
              "      <td>349</td>\n",
              "      <td>2</td>\n",
              "      <td>0</td>\n",
              "      <td>0</td>\n",
              "      <td>0</td>\n",
              "      <td>0</td>\n",
              "      <td>NaN</td>\n",
              "      <td>NaN</td>\n",
              "      <td>NaN</td>\n",
              "      <td>NaN</td>\n",
              "    </tr>\n",
              "    <tr>\n",
              "      <th>7050</th>\n",
              "      <td>photo</td>\n",
              "      <td>9/10/2016 10:30</td>\n",
              "      <td>17</td>\n",
              "      <td>0</td>\n",
              "      <td>0</td>\n",
              "      <td>17</td>\n",
              "      <td>0</td>\n",
              "      <td>0</td>\n",
              "      <td>0</td>\n",
              "      <td>0</td>\n",
              "      <td>0</td>\n",
              "      <td>NaN</td>\n",
              "      <td>NaN</td>\n",
              "      <td>NaN</td>\n",
              "      <td>NaN</td>\n",
              "    </tr>\n",
              "  </tbody>\n",
              "</table>\n",
              "<p>7050 rows × 15 columns</p>\n",
              "</div>"
            ],
            "text/plain": [
              "          status_type status_published  ...  Column3  Column4\n",
              "status_id                               ...                  \n",
              "1               video   4/22/2018 6:00  ...      NaN      NaN\n",
              "2               photo  4/21/2018 22:45  ...      NaN      NaN\n",
              "3               video   4/21/2018 6:17  ...      NaN      NaN\n",
              "4               photo   4/21/2018 2:29  ...      NaN      NaN\n",
              "5               photo   4/18/2018 3:22  ...      NaN      NaN\n",
              "...               ...              ...  ...      ...      ...\n",
              "7046            photo   9/24/2016 2:58  ...      NaN      NaN\n",
              "7047            photo  9/23/2016 11:19  ...      NaN      NaN\n",
              "7048            photo  9/21/2016 23:03  ...      NaN      NaN\n",
              "7049            photo   9/20/2016 0:43  ...      NaN      NaN\n",
              "7050            photo  9/10/2016 10:30  ...      NaN      NaN\n",
              "\n",
              "[7050 rows x 15 columns]"
            ]
          },
          "metadata": {
            "tags": []
          },
          "execution_count": 72
        }
      ]
    },
    {
      "cell_type": "code",
      "metadata": {
        "colab": {
          "base_uri": "https://localhost:8080/",
          "height": 968
        },
        "id": "RYZ4Ls7tgYgP",
        "outputId": "95022706-16c7-49f6-8d73-894831b6145a"
      },
      "source": [
        "from sklearn.preprocessing import LabelEncoder\n",
        "import seaborn as sns\n",
        "\n",
        "data = dataset.iloc[:1000,:-4]\n",
        "le = LabelEncoder()\n",
        "data['status_type'] = le.fit_transform(data['status_type'])\n",
        "target = data['status_type']\n",
        "data.drop(['status_published', 'status_type'], axis=1, inplace=True)\n",
        "\n",
        "print(data.describe())\n",
        "data.info()\n",
        "\n",
        "print(target.describe())\n",
        "\n",
        "sns.heatmap(data.corr(method='pearson'))"
      ],
      "execution_count": 73,
      "outputs": [
        {
          "output_type": "stream",
          "text": [
            "       num_reactions  num_comments  ...     num_sads   num_angrys\n",
            "count     1000.00000   1000.000000  ...  1000.000000  1000.000000\n",
            "mean       208.92700    104.791000  ...     0.459000     0.056000\n",
            "std        214.92007    951.466737  ...     2.680579     0.347829\n",
            "min          0.00000      0.000000  ...     0.000000     0.000000\n",
            "25%         94.75000      3.000000  ...     0.000000     0.000000\n",
            "50%        168.00000      8.000000  ...     0.000000     0.000000\n",
            "75%        267.25000     16.250000  ...     0.000000     0.000000\n",
            "max       4410.00000  20990.000000  ...    51.000000     6.000000\n",
            "\n",
            "[8 rows x 9 columns]\n",
            "<class 'pandas.core.frame.DataFrame'>\n",
            "Int64Index: 1000 entries, 1 to 1000\n",
            "Data columns (total 9 columns):\n",
            " #   Column         Non-Null Count  Dtype\n",
            "---  ------         --------------  -----\n",
            " 0   num_reactions  1000 non-null   int64\n",
            " 1   num_comments   1000 non-null   int64\n",
            " 2   num_shares     1000 non-null   int64\n",
            " 3   num_likes      1000 non-null   int64\n",
            " 4   num_loves      1000 non-null   int64\n",
            " 5   num_wows       1000 non-null   int64\n",
            " 6   num_hahas      1000 non-null   int64\n",
            " 7   num_sads       1000 non-null   int64\n",
            " 8   num_angrys     1000 non-null   int64\n",
            "dtypes: int64(9)\n",
            "memory usage: 78.1 KB\n",
            "count    1000.000000\n",
            "mean        1.546000\n",
            "std         0.890324\n",
            "min         0.000000\n",
            "25%         1.000000\n",
            "50%         1.000000\n",
            "75%         3.000000\n",
            "max         3.000000\n",
            "Name: status_type, dtype: float64\n"
          ],
          "name": "stdout"
        },
        {
          "output_type": "execute_result",
          "data": {
            "text/plain": [
              "<matplotlib.axes._subplots.AxesSubplot at 0x7f3600abbc50>"
            ]
          },
          "metadata": {
            "tags": []
          },
          "execution_count": 73
        },
        {
          "output_type": "display_data",
          "data": {
            "image/png": "[encoded data removed]",
            "text/plain": [
              "<Figure size 432x288 with 2 Axes>"
            ]
          },
          "metadata": {
            "tags": [],
            "needs_background": "light"
          }
        }
      ]
    },
    {
      "cell_type": "markdown",
      "metadata": {
        "id": "1JZ1JX3kK6js"
      },
      "source": [
        ""
      ]
    },
    {
      "cell_type": "markdown",
      "metadata": {
        "id": "7cdbDio3f7J2"
      },
      "source": [
        "### Regression"
      ]
    },
    {
      "cell_type": "code",
      "metadata": {
        "id": "Vb_fRMFZKZr8"
      },
      "source": [
        "from sklearn.model_selection import train_test_split\n",
        "\n",
        "X_train, X_test, y_train, y_test = train_test_split(data, target, test_size=0.30, random_state=5)\n"
      ],
      "execution_count": 74,
      "outputs": []
    },
    {
      "cell_type": "code",
      "metadata": {
        "colab": {
          "base_uri": "https://localhost:8080/"
        },
        "id": "v-thqWsjM1aI",
        "outputId": "b94de676-26ef-4c77-c2eb-010829d5d3e3"
      },
      "source": [
        "from sklearn.linear_model import LinearRegression\n",
        "\n",
        "# Create linear regression object\n",
        "regr = LinearRegression()\n",
        "\n",
        "# Train the model using the training sets\n",
        "regr.fit(X_train, y_train)"
      ],
      "execution_count": 75,
      "outputs": [
        {
          "output_type": "execute_result",
          "data": {
            "text/plain": [
              "LinearRegression(copy_X=True, fit_intercept=True, n_jobs=None, normalize=False)"
            ]
          },
          "metadata": {
            "tags": []
          },
          "execution_count": 75
        }
      ]
    },
    {
      "cell_type": "code",
      "metadata": {
        "id": "PMDWC6W6UkHz"
      },
      "source": [
        "y_pred = regr.predict(X_test)\n",
        "#print(y_pred)"
      ],
      "execution_count": 76,
      "outputs": []
    },
    {
      "cell_type": "code",
      "metadata": {
        "colab": {
          "base_uri": "https://localhost:8080/"
        },
        "id": "EiJfsJD6WKBw",
        "outputId": "7e3ec20b-2c58-457c-ec88-af0ba095c1a5"
      },
      "source": [
        "y_pred\n",
        "y_test"
      ],
      "execution_count": 77,
      "outputs": [
        {
          "output_type": "execute_result",
          "data": {
            "text/plain": [
              "status_id\n",
              "545    1\n",
              "516    1\n",
              "194    1\n",
              "12     1\n",
              "280    1\n",
              "      ..\n",
              "385    3\n",
              "478    1\n",
              "563    1\n",
              "637    1\n",
              "511    1\n",
              "Name: status_type, Length: 300, dtype: int64"
            ]
          },
          "metadata": {
            "tags": []
          },
          "execution_count": 77
        }
      ]
    },
    {
      "cell_type": "code",
      "metadata": {
        "colab": {
          "base_uri": "https://localhost:8080/"
        },
        "id": "lkHn_q6hUsTZ",
        "outputId": "0b145c57-781d-464e-d22e-15de145fd550"
      },
      "source": [
        "from sklearn import metrics\n",
        "\n",
        "# The coefficients\n",
        "print('Coefficients: \\n', regr.coef_)\n",
        "# The mean squared error\n",
        "print(\"Mean squared error: %.2f\"\n",
        "      % metrics.mean_squared_error(y_test, y_pred))\n",
        "print(\"Mean absolute error: %.2f\"\n",
        "      % metrics.mean_absolute_error(y_test, y_pred))\n"
      ],
      "execution_count": 78,
      "outputs": [
        {
          "output_type": "stream",
          "text": [
            "Coefficients: \n",
            " [-4.48531331e-01 -5.64349281e-05  1.59455525e-03  4.46444617e-01\n",
            "  4.76780976e-01  4.52983364e-01  5.75718710e-01  4.46034718e-01\n",
            "  6.13224332e-01]\n",
            "Mean squared error: 0.77\n",
            "Mean absolute error: 0.67\n"
          ],
          "name": "stdout"
        }
      ]
    },
    {
      "cell_type": "markdown",
      "metadata": {
        "id": "4_il8YR1fkfl"
      },
      "source": [
        "### Random forest"
      ]
    },
    {
      "cell_type": "code",
      "metadata": {
        "colab": {
          "base_uri": "https://localhost:8080/"
        },
        "id": "bKiVZQTHfxZT",
        "outputId": "2f8c8c8f-39e2-4483-de57-cec97b731ef9"
      },
      "source": [
        "# Random Forest Classification\n",
        "import pandas\n",
        "from sklearn import model_selection\n",
        "from sklearn.ensemble import RandomForestClassifier\n",
        "from sklearn import datasets\n",
        "import pandas\n",
        "from sklearn import model_selection\n",
        "X = data\n",
        "Y = target\n",
        "num_trees = 5\n",
        "max_features = 4\n",
        "kfold = model_selection.KFold(n_splits=10, random_state=5)\n",
        "model = RandomForestClassifier(n_estimators=num_trees, max_features=max_features, max_depth=3)\n",
        "results = model_selection.cross_val_score(model, X, Y, cv=kfold)\n",
        "print(results.mean())"
      ],
      "execution_count": 85,
      "outputs": [
        {
          "output_type": "stream",
          "text": [
            "0.8160000000000001\n"
          ],
          "name": "stdout"
        },
        {
          "output_type": "stream",
          "text": [
            "/usr/local/lib/python3.7/dist-packages/sklearn/model_selection/_split.py:296: FutureWarning: Setting a random_state has no effect since shuffle is False. This will raise an error in 0.24. You should leave random_state to its default (None), or set shuffle=True.\n",
            "  FutureWarning\n"
          ],
          "name": "stderr"
        }
      ]
    },
    {
      "cell_type": "markdown",
      "metadata": {
        "id": "LP4aZpX0Y2Wv"
      },
      "source": [
        "### k-NN"
      ]
    },
    {
      "cell_type": "code",
      "metadata": {
        "colab": {
          "base_uri": "https://localhost:8080/"
        },
        "id": "Y6bp27PlY1ac",
        "outputId": "502a1ad2-5415-4838-c7d4-92eb00ad4569"
      },
      "source": [
        "from sklearn.neighbors import KNeighborsClassifier\n",
        "\n",
        "# Initialize our classifier, weight(\"uniform\")\n",
        "knn = KNeighborsClassifier(n_neighbors=7, weights='distance')\n",
        "\n",
        "# Fitting the model with the data\n",
        "knn.fit(X_train, y_train)"
      ],
      "execution_count": 80,
      "outputs": [
        {
          "output_type": "execute_result",
          "data": {
            "text/plain": [
              "KNeighborsClassifier(algorithm='auto', leaf_size=30, metric='minkowski',\n",
              "                     metric_params=None, n_jobs=None, n_neighbors=7, p=2,\n",
              "                     weights='distance')"
            ]
          },
          "metadata": {
            "tags": []
          },
          "execution_count": 80
        }
      ]
    },
    {
      "cell_type": "code",
      "metadata": {
        "colab": {
          "base_uri": "https://localhost:8080/"
        },
        "id": "T-_oFLiFZKtF",
        "outputId": "0ee098f5-fe10-45ba-9ecc-36d3a9d15e43"
      },
      "source": [
        "y_pred = knn.predict(X_test)\n",
        "print(y_pred)\n",
        "print(y_test.values)"
      ],
      "execution_count": 81,
      "outputs": [
        {
          "output_type": "stream",
          "text": [
            "[1 3 1 1 1 1 1 1 3 1 1 1 1 1 1 1 1 1 1 1 3 3 1 1 1 1 1 1 1 1 1 1 3 1 1 1 1\n",
            " 1 1 1 1 1 1 1 1 3 1 1 1 1 1 1 3 1 1 2 3 1 1 1 1 1 1 1 1 3 3 1 3 1 1 3 1 1\n",
            " 1 1 1 3 3 1 1 3 1 3 1 1 1 1 1 1 1 1 1 1 1 1 1 1 1 1 1 1 2 1 1 1 1 1 3 1 1\n",
            " 1 1 3 1 3 1 1 1 3 1 1 1 1 1 1 1 3 3 1 1 1 1 1 1 3 1 1 1 3 1 3 1 1 1 1 1 1\n",
            " 1 1 1 1 1 3 1 1 1 1 3 1 1 3 3 1 1 1 1 1 1 1 1 1 1 3 1 1 1 1 1 1 1 1 1 1 3\n",
            " 1 1 2 1 1 3 1 1 3 1 3 1 1 1 1 3 1 1 3 1 3 3 1 1 1 1 3 1 1 1 1 3 1 1 1 1 1\n",
            " 1 3 3 3 1 3 1 3 1 1 1 1 1 1 1 1 1 1 1 1 1 1 2 1 1 1 3 3 1 1 3 1 1 1 3 1 1\n",
            " 1 1 3 3 1 3 1 1 1 1 1 1 1 1 3 3 3 1 1 1 1 1 3 1 1 1 1 1 1 1 3 1 1 3 1 1 3\n",
            " 1 1 1 1]\n",
            "[1 1 1 1 1 3 1 1 3 2 1 1 2 1 1 1 1 1 1 1 3 3 1 0 2 1 1 3 1 1 1 1 3 1 1 1 1\n",
            " 1 0 2 1 1 2 1 3 3 1 2 1 1 3 1 0 1 1 0 3 1 1 1 1 1 1 1 1 3 3 1 1 3 1 3 3 1\n",
            " 1 1 1 3 3 1 1 3 1 3 1 1 2 1 1 1 3 1 1 3 1 3 1 1 1 1 1 1 1 1 1 1 1 1 3 0 1\n",
            " 3 1 3 1 3 1 1 1 3 1 1 1 1 1 1 1 3 3 1 1 1 1 1 1 3 1 1 2 3 1 3 1 1 1 1 1 3\n",
            " 1 1 1 1 1 3 1 2 1 1 3 3 1 3 3 1 3 3 1 3 1 1 1 1 1 3 3 1 1 1 1 0 1 1 1 1 3\n",
            " 1 1 1 0 1 3 1 1 3 2 1 1 2 3 1 3 1 1 2 1 3 3 1 1 1 1 3 1 1 1 1 2 1 1 1 1 1\n",
            " 1 3 3 3 3 3 3 3 1 1 3 1 1 1 1 1 1 1 1 1 1 1 3 1 1 1 3 3 1 1 3 1 2 1 3 1 1\n",
            " 1 2 3 3 1 3 1 1 1 3 1 1 3 3 1 3 3 1 1 1 1 1 3 1 1 1 1 1 1 1 3 1 1 3 3 2 3\n",
            " 1 1 1 1]\n"
          ],
          "name": "stdout"
        }
      ]
    },
    {
      "cell_type": "code",
      "metadata": {
        "colab": {
          "base_uri": "https://localhost:8080/"
        },
        "id": "Mv1Mn6IaaewK",
        "outputId": "77bb5ffc-9873-42ce-b41f-3bf9b84b2aa0"
      },
      "source": [
        "from sklearn import metrics\n",
        "\n",
        "print(\"Confusion matrix of the predictions:\\n\", metrics.confusion_matrix(y_test, y_pred))\n",
        "\n",
        "print(\"accuracy of the predictions:\", metrics.accuracy_score(y_test, y_pred))\n",
        "print(\"precision\", metrics.precision_score(y_test, y_pred, average=None))\n",
        "print(\"recall\", metrics.recall_score(y_test, y_pred, average=None))\n"
      ],
      "execution_count": 82,
      "outputs": [
        {
          "output_type": "stream",
          "text": [
            "Confusion matrix of the predictions:\n",
            " [[  0   5   1   1]\n",
            " [  0 194   2   4]\n",
            " [  0  14   0   2]\n",
            " [  0  24   1  52]]\n",
            "accuracy of the predictions: 0.82\n",
            "precision [0.         0.8185654  0.         0.88135593]\n",
            "recall [0.         0.97       0.         0.67532468]\n"
          ],
          "name": "stdout"
        },
        {
          "output_type": "stream",
          "text": [
            "/usr/local/lib/python3.7/dist-packages/sklearn/metrics/_classification.py:1272: UndefinedMetricWarning: Precision is ill-defined and being set to 0.0 in labels with no predicted samples. Use `zero_division` parameter to control this behavior.\n",
            "  _warn_prf(average, modifier, msg_start, len(result))\n"
          ],
          "name": "stderr"
        }
      ]
    },
    {
      "cell_type": "code",
      "metadata": {
        "colab": {
          "base_uri": "https://localhost:8080/",
          "height": 295
        },
        "id": "rMcQ5DLFdGDb",
        "outputId": "8b2c5e62-ebb6-46e4-a2ff-20b5879558bb"
      },
      "source": [
        "k_range = list(range(1,20))\n",
        "scores = []\n",
        "for k in k_range:\n",
        "    knn = KNeighborsClassifier(n_neighbors=k)\n",
        "    knn.fit(X_train, y_train)\n",
        "    y_pred = knn.predict(X_test)\n",
        "    scores.append(metrics.accuracy_score(y_test, y_pred))\n",
        "    \n",
        "plt.plot(k_range, scores)\n",
        "plt.xlabel('Value of k for KNN')\n",
        "plt.ylabel('Accuracy Score')\n",
        "plt.title('Accuracy Scores for Values of k of k-Nearest-Neighbors')\n",
        "plt.show()"
      ],
      "execution_count": 83,
      "outputs": [
        {
          "output_type": "display_data",
          "data": {
            "image/png": "[encoded data removed]",
            "text/plain": [
              "<Figure size 432x288 with 1 Axes>"
            ]
          },
          "metadata": {
            "tags": [],
            "needs_background": "light"
          }
        }
      ]
    },
    {
      "cell_type": "markdown",
      "metadata": {
        "id": "5E9loORipO3T"
      },
      "source": [
        "# STEP 2"
      ]
    },
    {
      "cell_type": "markdown",
      "metadata": {
        "id": "8-8CFBsDpVo6"
      },
      "source": [
        "## PCA"
      ]
    },
    {
      "cell_type": "code",
      "metadata": {
        "colab": {
          "base_uri": "https://localhost:8080/",
          "height": 315
        },
        "id": "cr2_h1djpTqS",
        "outputId": "a255ed77-b9c5-4606-92e5-bb443cbcb6bf"
      },
      "source": [
        "####\n",
        "combined = pd.DataFrame(data)\n",
        "print(combined.shape)\n",
        "####\n",
        "from sklearn import decomposition\n",
        "\n",
        "combined_pca = decomposition.PCA(n_components=2,whiten=True).fit_transform(combined)\n",
        "combined_ica = decomposition.FastICA(n_components=2, random_state=5).fit_transform(combined)\n",
        "\n",
        "fig, (ax1, ax2) = plt.subplots(1, 2, sharey=True)\n",
        "\n",
        "ax1.scatter(combined_pca[0:90,0], combined_pca[0:90,1], c='blue')\n",
        "ax1.scatter(combined_pca[90:180,0], combined_pca[90:180,1], c='green')\n",
        "ax1.set_title('PCA')\n",
        "\n",
        "ax2.scatter(combined_ica[0:90,0], combined_ica[0:90,1], c='blue')\n",
        "ax2.scatter(combined_ica[90:180,0], combined_ica[90:180,1], c='green')\n",
        "ax2.set_title('ICA')"
      ],
      "execution_count": 86,
      "outputs": [
        {
          "output_type": "stream",
          "text": [
            "(1000, 9)\n"
          ],
          "name": "stdout"
        },
        {
          "output_type": "execute_result",
          "data": {
            "text/plain": [
              "Text(0.5, 1.0, 'ICA')"
            ]
          },
          "metadata": {
            "tags": []
          },
          "execution_count": 86
        },
        {
          "output_type": "display_data",
          "data": {
            "image/png": "[encoded data removed]",
            "text/plain": [
              "<Figure size 432x288 with 2 Axes>"
            ]
          },
          "metadata": {
            "tags": [],
            "needs_background": "light"
          }
        }
      ]
    },
    {
      "cell_type": "code",
      "metadata": {
        "colab": {
          "base_uri": "https://localhost:8080/"
        },
        "id": "ExDJhGv6redI",
        "outputId": "4dfd7394-88e2-4f05-a492-775567992142"
      },
      "source": [
        "component_num = 2\n",
        "pca = decomposition.PCA(n_components=component_num)\n",
        "pca.fit_transform(combined)\n",
        "\n",
        "## Explained variance ratio by PCs\n",
        "print(pca.explained_variance_ratio_)\n",
        "## Singular values\n",
        "print(pca.singular_values_)\n",
        "## Get the coefficients of each original feature in building the PCs\n",
        "print(pd.DataFrame(pca.components_,columns=combined.columns,index = ['PC1','PC2']))\n",
        "\n",
        "\n",
        "#ica = decomposition.FastICA(n_components=component_num)\n",
        "#ica.fit_transform(combined)\n",
        "## Mixing matrix for ICA\n",
        "# print(ica.mixing_)"
      ],
      "execution_count": 87,
      "outputs": [
        {
          "output_type": "stream",
          "text": [
            "[0.91022082 0.08720902]\n",
            "[30099.0964623   9316.67118611]\n",
            "     num_reactions  num_comments  num_shares  ...  num_hahas  num_sads  num_angrys\n",
            "PC1       0.032794      0.999047    0.012190  ...   0.000278  0.000109    0.000036\n",
            "PC2       0.720845     -0.041968    0.067728  ...   0.000800  0.000595    0.000160\n",
            "\n",
            "[2 rows x 9 columns]\n"
          ],
          "name": "stdout"
        }
      ]
    },
    {
      "cell_type": "markdown",
      "metadata": {
        "id": "h93fATHfsIby"
      },
      "source": [
        "## t-SNE"
      ]
    },
    {
      "cell_type": "code",
      "metadata": {
        "colab": {
          "base_uri": "https://localhost:8080/",
          "height": 315
        },
        "id": "Aa0lnSTAsOSx",
        "outputId": "bd2af93b-9318-48ac-9e06-250a00b4b965"
      },
      "source": [
        "####\n",
        "combined = data\n",
        "print(combined.shape)\n",
        "####\n",
        "from sklearn import manifold\n",
        "combined_tSNE = manifold.TSNE(n_components=2, init='pca',perplexity=30,learning_rate=200,n_iter=500,random_state=2).fit_transform(combined)\n",
        "####\n",
        "import umap\n",
        "combined_UMAP = umap.UMAP(n_neighbors=10, min_dist=0.3, n_components=2,random_state=2).fit_transform(combined)\n",
        "\n",
        "fig, (ax1, ax2) = plt.subplots(1, 2, sharey=True)\n",
        "\n",
        "ax1.scatter(combined_tSNE[0:90,0], combined_tSNE[0:90,1], c='blue')\n",
        "ax1.scatter(combined_tSNE[90:180,0], combined_tSNE[90:180,1], c='green')\n",
        "ax1.set_title('t-SNE')\n",
        "\n",
        "ax2.scatter(combined_UMAP[0:90,0], combined_UMAP[0:90,1], c='blue')\n",
        "ax2.scatter(combined_UMAP[90:180,0], combined_UMAP[90:180,1], c='green')\n",
        "ax2.set_title('UMAP')"
      ],
      "execution_count": 88,
      "outputs": [
        {
          "output_type": "stream",
          "text": [
            "(1000, 9)\n"
          ],
          "name": "stdout"
        },
        {
          "output_type": "execute_result",
          "data": {
            "text/plain": [
              "Text(0.5, 1.0, 'UMAP')"
            ]
          },
          "metadata": {
            "tags": []
          },
          "execution_count": 88
        },
        {
          "output_type": "display_data",
          "data": {
            "image/png": "[encoded data removed]",
            "text/plain": [
              "<Figure size 432x288 with 2 Axes>"
            ]
          },
          "metadata": {
            "tags": [],
            "needs_background": "light"
          }
        }
      ]
    }
  ]
}