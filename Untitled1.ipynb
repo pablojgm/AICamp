{
  "nbformat": 4,
  "nbformat_minor": 0,
  "metadata": {
    "colab": {
      "name": "Untitled1.ipynb",
      "provenance": [],
      "collapsed_sections": [],
      "authorship_tag": "ABX9TyN4F13RyY1J1cwdfTS979oE",
      "include_colab_link": true
    },
    "kernelspec": {
      "name": "python3",
      "display_name": "Python 3"
    }
  },
  "cells": [
    {
      "cell_type": "markdown",
      "metadata": {
        "id": "view-in-github",
        "colab_type": "text"
      },
      "source": [
        "<a href=\"https://colab.research.google.com/github/pablojgm/AICamp/blob/main/Untitled1.ipynb\" target=\"_parent\"><img src=\"https://colab.research.google.com/assets/colab-badge.svg\" alt=\"Open In Colab\"/></a>"
      ]
    },
    {
      "cell_type": "markdown",
      "metadata": {
        "id": "cL5SWf0zb9hv"
      },
      "source": [
        "Milestone Project - Facebook dataset\n",
        "\n",
        "Step 1:\n",
        "You need to implement two important tasks in this step:\n",
        "  1) Read the data files in each dataset and prepare them as dataframes.\n",
        "  2) Implement three supervised machine learning methods on each dataset including\n",
        "      a) Regression\n",
        "      b) Random forest \n",
        "      c) k-NN\n",
        "\n",
        "Step 2​:\n",
        "You need to practice two important tasks in this step:\n",
        "  1) Implement the following dimensionality reduction methods on each one of these datasets\n",
        "      a) PCA \n",
        "      b) t-SNE \n",
        "      c) UMAP\n",
        "  2) Implement PCA and then implement three supervised machine learning methods on each dataset including\n",
        "      a) Regression\n",
        "      b) Random forest \n",
        "      c) k-NN\n",
        "\n",
        "Step 3​:\n",
        "You need to practice clustering in this step:\n",
        "  1) Read the data files in each dataset and prepare them as data frames. \n",
        "  2) Implement different clustering on each dataset including"
      ]
    },
    {
      "cell_type": "code",
      "metadata": {
        "colab": {
          "base_uri": "https://localhost:8080/",
          "height": 470
        },
        "id": "PC0nWxVae2uf",
        "outputId": "80637e91-2af6-4f87-d8f9-55c3330d9365"
      },
      "source": [
        "import numpy as np\n",
        "import matplotlib.pyplot as plt\n",
        "import pandas as pd\n",
        "\n",
        "url = \"https://archive.ics.uci.edu/ml/machine-learning-databases/00488/Live_20210128.csv\"\n",
        "dataset = pd.read_csv(url,index_col=0)\n",
        "\n",
        "dataset"
      ],
      "execution_count": 17,
      "outputs": [
        {
          "output_type": "execute_result",
          "data": {
            "text/html": [
              "<div>\n",
              "<style scoped>\n",
              "    .dataframe tbody tr th:only-of-type {\n",
              "        vertical-align: middle;\n",
              "    }\n",
              "\n",
              "    .dataframe tbody tr th {\n",
              "        vertical-align: top;\n",
              "    }\n",
              "\n",
              "    .dataframe thead th {\n",
              "        text-align: right;\n",
              "    }\n",
              "</style>\n",
              "<table border=\"1\" class=\"dataframe\">\n",
              "  <thead>\n",
              "    <tr style=\"text-align: right;\">\n",
              "      <th></th>\n",
              "      <th>status_type</th>\n",
              "      <th>status_published</th>\n",
              "      <th>num_reactions</th>\n",
              "      <th>num_comments</th>\n",
              "      <th>num_shares</th>\n",
              "      <th>num_likes</th>\n",
              "      <th>num_loves</th>\n",
              "      <th>num_wows</th>\n",
              "      <th>num_hahas</th>\n",
              "      <th>num_sads</th>\n",
              "      <th>num_angrys</th>\n",
              "      <th>Column1</th>\n",
              "      <th>Column2</th>\n",
              "      <th>Column3</th>\n",
              "      <th>Column4</th>\n",
              "    </tr>\n",
              "    <tr>\n",
              "      <th>status_id</th>\n",
              "      <th></th>\n",
              "      <th></th>\n",
              "      <th></th>\n",
              "      <th></th>\n",
              "      <th></th>\n",
              "      <th></th>\n",
              "      <th></th>\n",
              "      <th></th>\n",
              "      <th></th>\n",
              "      <th></th>\n",
              "      <th></th>\n",
              "      <th></th>\n",
              "      <th></th>\n",
              "      <th></th>\n",
              "      <th></th>\n",
              "    </tr>\n",
              "  </thead>\n",
              "  <tbody>\n",
              "    <tr>\n",
              "      <th>1</th>\n",
              "      <td>video</td>\n",
              "      <td>4/22/2018 6:00</td>\n",
              "      <td>529</td>\n",
              "      <td>512</td>\n",
              "      <td>262</td>\n",
              "      <td>432</td>\n",
              "      <td>92</td>\n",
              "      <td>3</td>\n",
              "      <td>1</td>\n",
              "      <td>1</td>\n",
              "      <td>0</td>\n",
              "      <td>NaN</td>\n",
              "      <td>NaN</td>\n",
              "      <td>NaN</td>\n",
              "      <td>NaN</td>\n",
              "    </tr>\n",
              "    <tr>\n",
              "      <th>2</th>\n",
              "      <td>photo</td>\n",
              "      <td>4/21/2018 22:45</td>\n",
              "      <td>150</td>\n",
              "      <td>0</td>\n",
              "      <td>0</td>\n",
              "      <td>150</td>\n",
              "      <td>0</td>\n",
              "      <td>0</td>\n",
              "      <td>0</td>\n",
              "      <td>0</td>\n",
              "      <td>0</td>\n",
              "      <td>NaN</td>\n",
              "      <td>NaN</td>\n",
              "      <td>NaN</td>\n",
              "      <td>NaN</td>\n",
              "    </tr>\n",
              "    <tr>\n",
              "      <th>3</th>\n",
              "      <td>video</td>\n",
              "      <td>4/21/2018 6:17</td>\n",
              "      <td>227</td>\n",
              "      <td>236</td>\n",
              "      <td>57</td>\n",
              "      <td>204</td>\n",
              "      <td>21</td>\n",
              "      <td>1</td>\n",
              "      <td>1</td>\n",
              "      <td>0</td>\n",
              "      <td>0</td>\n",
              "      <td>NaN</td>\n",
              "      <td>NaN</td>\n",
              "      <td>NaN</td>\n",
              "      <td>NaN</td>\n",
              "    </tr>\n",
              "    <tr>\n",
              "      <th>4</th>\n",
              "      <td>photo</td>\n",
              "      <td>4/21/2018 2:29</td>\n",
              "      <td>111</td>\n",
              "      <td>0</td>\n",
              "      <td>0</td>\n",
              "      <td>111</td>\n",
              "      <td>0</td>\n",
              "      <td>0</td>\n",
              "      <td>0</td>\n",
              "      <td>0</td>\n",
              "      <td>0</td>\n",
              "      <td>NaN</td>\n",
              "      <td>NaN</td>\n",
              "      <td>NaN</td>\n",
              "      <td>NaN</td>\n",
              "    </tr>\n",
              "    <tr>\n",
              "      <th>5</th>\n",
              "      <td>photo</td>\n",
              "      <td>4/18/2018 3:22</td>\n",
              "      <td>213</td>\n",
              "      <td>0</td>\n",
              "      <td>0</td>\n",
              "      <td>204</td>\n",
              "      <td>9</td>\n",
              "      <td>0</td>\n",
              "      <td>0</td>\n",
              "      <td>0</td>\n",
              "      <td>0</td>\n",
              "      <td>NaN</td>\n",
              "      <td>NaN</td>\n",
              "      <td>NaN</td>\n",
              "      <td>NaN</td>\n",
              "    </tr>\n",
              "    <tr>\n",
              "      <th>...</th>\n",
              "      <td>...</td>\n",
              "      <td>...</td>\n",
              "      <td>...</td>\n",
              "      <td>...</td>\n",
              "      <td>...</td>\n",
              "      <td>...</td>\n",
              "      <td>...</td>\n",
              "      <td>...</td>\n",
              "      <td>...</td>\n",
              "      <td>...</td>\n",
              "      <td>...</td>\n",
              "      <td>...</td>\n",
              "      <td>...</td>\n",
              "      <td>...</td>\n",
              "      <td>...</td>\n",
              "    </tr>\n",
              "    <tr>\n",
              "      <th>7046</th>\n",
              "      <td>photo</td>\n",
              "      <td>9/24/2016 2:58</td>\n",
              "      <td>89</td>\n",
              "      <td>0</td>\n",
              "      <td>0</td>\n",
              "      <td>89</td>\n",
              "      <td>0</td>\n",
              "      <td>0</td>\n",
              "      <td>0</td>\n",
              "      <td>0</td>\n",
              "      <td>0</td>\n",
              "      <td>NaN</td>\n",
              "      <td>NaN</td>\n",
              "      <td>NaN</td>\n",
              "      <td>NaN</td>\n",
              "    </tr>\n",
              "    <tr>\n",
              "      <th>7047</th>\n",
              "      <td>photo</td>\n",
              "      <td>9/23/2016 11:19</td>\n",
              "      <td>16</td>\n",
              "      <td>0</td>\n",
              "      <td>0</td>\n",
              "      <td>14</td>\n",
              "      <td>1</td>\n",
              "      <td>0</td>\n",
              "      <td>1</td>\n",
              "      <td>0</td>\n",
              "      <td>0</td>\n",
              "      <td>NaN</td>\n",
              "      <td>NaN</td>\n",
              "      <td>NaN</td>\n",
              "      <td>NaN</td>\n",
              "    </tr>\n",
              "    <tr>\n",
              "      <th>7048</th>\n",
              "      <td>photo</td>\n",
              "      <td>9/21/2016 23:03</td>\n",
              "      <td>2</td>\n",
              "      <td>0</td>\n",
              "      <td>0</td>\n",
              "      <td>1</td>\n",
              "      <td>1</td>\n",
              "      <td>0</td>\n",
              "      <td>0</td>\n",
              "      <td>0</td>\n",
              "      <td>0</td>\n",
              "      <td>NaN</td>\n",
              "      <td>NaN</td>\n",
              "      <td>NaN</td>\n",
              "      <td>NaN</td>\n",
              "    </tr>\n",
              "    <tr>\n",
              "      <th>7049</th>\n",
              "      <td>photo</td>\n",
              "      <td>9/20/2016 0:43</td>\n",
              "      <td>351</td>\n",
              "      <td>12</td>\n",
              "      <td>22</td>\n",
              "      <td>349</td>\n",
              "      <td>2</td>\n",
              "      <td>0</td>\n",
              "      <td>0</td>\n",
              "      <td>0</td>\n",
              "      <td>0</td>\n",
              "      <td>NaN</td>\n",
              "      <td>NaN</td>\n",
              "      <td>NaN</td>\n",
              "      <td>NaN</td>\n",
              "    </tr>\n",
              "    <tr>\n",
              "      <th>7050</th>\n",
              "      <td>photo</td>\n",
              "      <td>9/10/2016 10:30</td>\n",
              "      <td>17</td>\n",
              "      <td>0</td>\n",
              "      <td>0</td>\n",
              "      <td>17</td>\n",
              "      <td>0</td>\n",
              "      <td>0</td>\n",
              "      <td>0</td>\n",
              "      <td>0</td>\n",
              "      <td>0</td>\n",
              "      <td>NaN</td>\n",
              "      <td>NaN</td>\n",
              "      <td>NaN</td>\n",
              "      <td>NaN</td>\n",
              "    </tr>\n",
              "  </tbody>\n",
              "</table>\n",
              "<p>7050 rows × 15 columns</p>\n",
              "</div>"
            ],
            "text/plain": [
              "          status_type status_published  ...  Column3  Column4\n",
              "status_id                               ...                  \n",
              "1               video   4/22/2018 6:00  ...      NaN      NaN\n",
              "2               photo  4/21/2018 22:45  ...      NaN      NaN\n",
              "3               video   4/21/2018 6:17  ...      NaN      NaN\n",
              "4               photo   4/21/2018 2:29  ...      NaN      NaN\n",
              "5               photo   4/18/2018 3:22  ...      NaN      NaN\n",
              "...               ...              ...  ...      ...      ...\n",
              "7046            photo   9/24/2016 2:58  ...      NaN      NaN\n",
              "7047            photo  9/23/2016 11:19  ...      NaN      NaN\n",
              "7048            photo  9/21/2016 23:03  ...      NaN      NaN\n",
              "7049            photo   9/20/2016 0:43  ...      NaN      NaN\n",
              "7050            photo  9/10/2016 10:30  ...      NaN      NaN\n",
              "\n",
              "[7050 rows x 15 columns]"
            ]
          },
          "metadata": {
            "tags": []
          },
          "execution_count": 17
        }
      ]
    },
    {
      "cell_type": "code",
      "metadata": {
        "colab": {
          "base_uri": "https://localhost:8080/",
          "height": 832
        },
        "id": "RYZ4Ls7tgYgP",
        "outputId": "95d2bf26-49dc-4a6d-a235-5cc8d5a52c38"
      },
      "source": [
        "data = dataset.iloc[:1000,:-4]\n",
        "\n",
        "data['status_type'].unique()\n",
        "\n",
        "from sklearn.preprocessing import LabelEncoder\n",
        "\n",
        "le = LabelEncoder()\n",
        "data['status_type'] = le.fit_transform(data['status_type'])\n",
        "data.drop(['status_published'], axis=1, inplace=True)\n",
        "data\n",
        "target = data['status_type']\n",
        "\n",
        "print(data.describe())\n",
        "data.info()\n",
        "\n",
        "import seaborn as sns\n",
        "sns.heatmap(data.corr(method='pearson'))"
      ],
      "execution_count": 18,
      "outputs": [
        {
          "output_type": "stream",
          "text": [
            "       status_type  num_reactions  ...     num_sads   num_angrys\n",
            "count  1000.000000     1000.00000  ...  1000.000000  1000.000000\n",
            "mean      1.546000      208.92700  ...     0.459000     0.056000\n",
            "std       0.890324      214.92007  ...     2.680579     0.347829\n",
            "min       0.000000        0.00000  ...     0.000000     0.000000\n",
            "25%       1.000000       94.75000  ...     0.000000     0.000000\n",
            "50%       1.000000      168.00000  ...     0.000000     0.000000\n",
            "75%       3.000000      267.25000  ...     0.000000     0.000000\n",
            "max       3.000000     4410.00000  ...    51.000000     6.000000\n",
            "\n",
            "[8 rows x 10 columns]\n",
            "<class 'pandas.core.frame.DataFrame'>\n",
            "Int64Index: 1000 entries, 1 to 1000\n",
            "Data columns (total 10 columns):\n",
            " #   Column         Non-Null Count  Dtype\n",
            "---  ------         --------------  -----\n",
            " 0   status_type    1000 non-null   int64\n",
            " 1   num_reactions  1000 non-null   int64\n",
            " 2   num_comments   1000 non-null   int64\n",
            " 3   num_shares     1000 non-null   int64\n",
            " 4   num_likes      1000 non-null   int64\n",
            " 5   num_loves      1000 non-null   int64\n",
            " 6   num_wows       1000 non-null   int64\n",
            " 7   num_hahas      1000 non-null   int64\n",
            " 8   num_sads       1000 non-null   int64\n",
            " 9   num_angrys     1000 non-null   int64\n",
            "dtypes: int64(10)\n",
            "memory usage: 85.9 KB\n"
          ],
          "name": "stdout"
        },
        {
          "output_type": "execute_result",
          "data": {
            "text/plain": [
              "<matplotlib.axes._subplots.AxesSubplot at 0x7f360772e7d0>"
            ]
          },
          "metadata": {
            "tags": []
          },
          "execution_count": 18
        },
        {
          "output_type": "display_data",
          "data": {
            "image/png": "[encoded data removed]",
            "text/plain": [
              "<Figure size 432x288 with 2 Axes>"
            ]
          },
          "metadata": {
            "tags": [],
            "needs_background": "light"
          }
        }
      ]
    },
    {
      "cell_type": "markdown",
      "metadata": {
        "id": "1JZ1JX3kK6js"
      },
      "source": [
        ""
      ]
    },
    {
      "cell_type": "code",
      "metadata": {
        "id": "Vb_fRMFZKZr8"
      },
      "source": [
        "from sklearn.model_selection import train_test_split\n",
        "\n",
        "X_train, X_test, y_train, y_test = train_test_split(data, data['status_type'], test_size=0.30, random_state=5)\n"
      ],
      "execution_count": 19,
      "outputs": []
    },
    {
      "cell_type": "code",
      "metadata": {
        "colab": {
          "base_uri": "https://localhost:8080/"
        },
        "id": "v-thqWsjM1aI",
        "outputId": "4daee689-fb4d-4a2e-cc3c-3909cb2db54a"
      },
      "source": [
        "from sklearn.linear_model import LinearRegression\n",
        "\n",
        "# Create linear regression object\n",
        "regr = LinearRegression()\n",
        "\n",
        "# Train the model using the training sets\n",
        "regr.fit(X_train, y_train)"
      ],
      "execution_count": 20,
      "outputs": [
        {
          "output_type": "execute_result",
          "data": {
            "text/plain": [
              "LinearRegression(copy_X=True, fit_intercept=True, n_jobs=None, normalize=False)"
            ]
          },
          "metadata": {
            "tags": []
          },
          "execution_count": 20
        }
      ]
    },
    {
      "cell_type": "code",
      "metadata": {
        "id": "PMDWC6W6UkHz"
      },
      "source": [
        "y_pred = regr.predict(X_test)\n",
        "#print(y_pred)"
      ],
      "execution_count": 21,
      "outputs": []
    },
    {
      "cell_type": "code",
      "metadata": {
        "colab": {
          "base_uri": "https://localhost:8080/"
        },
        "id": "EiJfsJD6WKBw",
        "outputId": "6ee688b4-3149-47dc-f755-0eb0e110eff4"
      },
      "source": [
        "y_pred\n",
        "y_test"
      ],
      "execution_count": 22,
      "outputs": [
        {
          "output_type": "execute_result",
          "data": {
            "text/plain": [
              "status_id\n",
              "545    1\n",
              "516    1\n",
              "194    1\n",
              "12     1\n",
              "280    1\n",
              "      ..\n",
              "385    3\n",
              "478    1\n",
              "563    1\n",
              "637    1\n",
              "511    1\n",
              "Name: status_type, Length: 300, dtype: int64"
            ]
          },
          "metadata": {
            "tags": []
          },
          "execution_count": 22
        }
      ]
    },
    {
      "cell_type": "code",
      "metadata": {
        "colab": {
          "base_uri": "https://localhost:8080/"
        },
        "id": "lkHn_q6hUsTZ",
        "outputId": "8129efb5-44d1-46db-b0d3-d74ea1c6e658"
      },
      "source": [
        "from sklearn import metrics\n",
        "\n",
        "# The coefficients\n",
        "print('Coefficients: \\n', regr.coef_)\n",
        "# The mean squared error\n",
        "print(\"Mean squared error: %.2f\"\n",
        "      % metrics.mean_squared_error(y_test, y_pred))\n",
        "print(\"Mean absolute error: %.2f\"\n",
        "      % metrics.mean_absolute_error(y_test, y_pred))\n"
      ],
      "execution_count": 23,
      "outputs": [
        {
          "output_type": "stream",
          "text": [
            "Coefficients: \n",
            " [ 1.00000000e+00  1.52018348e-17  3.94585691e-18 -1.78270037e-17\n",
            " -1.36141592e-18  4.41134292e-18  2.77425239e-16 -1.18725380e-17\n",
            " -1.89855522e-16  2.12996877e-17]\n",
            "Mean squared error: 0.00\n",
            "Mean absolute error: 0.00\n"
          ],
          "name": "stdout"
        }
      ]
    },
    {
      "cell_type": "markdown",
      "metadata": {
        "id": "LP4aZpX0Y2Wv"
      },
      "source": [
        "### k-NN"
      ]
    },
    {
      "cell_type": "code",
      "metadata": {
        "colab": {
          "base_uri": "https://localhost:8080/"
        },
        "id": "Y6bp27PlY1ac",
        "outputId": "f2db3a65-d8cd-4400-dee2-cfff9cd7e52d"
      },
      "source": [
        "from sklearn.neighbors import KNeighborsClassifier\n",
        "\n",
        "# Initialize our classifier, weight(\"uniform\")\n",
        "knn = KNeighborsClassifier(n_neighbors=2, weights='distance')\n",
        "\n",
        "# Fitting the model with the data\n",
        "knn.fit(X_train, y_train)"
      ],
      "execution_count": 24,
      "outputs": [
        {
          "output_type": "execute_result",
          "data": {
            "text/plain": [
              "KNeighborsClassifier(algorithm='auto', leaf_size=30, metric='minkowski',\n",
              "                     metric_params=None, n_jobs=None, n_neighbors=2, p=2,\n",
              "                     weights='distance')"
            ]
          },
          "metadata": {
            "tags": []
          },
          "execution_count": 24
        }
      ]
    },
    {
      "cell_type": "code",
      "metadata": {
        "colab": {
          "base_uri": "https://localhost:8080/"
        },
        "id": "T-_oFLiFZKtF",
        "outputId": "f4eaa1fe-67fd-449f-ef66-42b74ab2498f"
      },
      "source": [
        "y_pred = knn.predict(X_test)\n",
        "print(y_pred)\n",
        "print(y_test.values)"
      ],
      "execution_count": 25,
      "outputs": [
        {
          "output_type": "stream",
          "text": [
            "[1 0 1 1 1 1 1 1 3 1 1 1 1 1 1 1 1 1 1 1 3 3 1 1 1 1 1 1 1 1 1 1 3 0 1 1 1\n",
            " 1 1 1 1 1 1 1 1 3 1 1 1 1 1 1 3 1 1 1 3 1 1 1 1 3 1 1 1 3 3 1 3 1 1 3 1 1\n",
            " 1 1 3 3 3 1 1 3 1 3 1 1 1 1 1 1 2 3 1 1 1 2 1 1 1 1 1 1 2 1 1 1 1 1 3 1 1\n",
            " 1 1 3 1 3 1 3 3 3 1 1 1 1 1 1 1 3 3 1 1 1 1 1 1 3 1 1 1 3 1 3 1 1 1 1 1 1\n",
            " 1 1 1 1 1 3 1 1 1 1 3 1 1 3 3 1 3 3 1 1 3 1 3 1 1 3 2 2 1 1 1 1 1 1 1 1 3\n",
            " 1 1 2 1 1 3 1 1 3 3 3 1 2 2 1 3 1 1 1 1 3 3 3 0 1 1 3 1 1 1 1 3 3 1 2 1 1\n",
            " 1 3 3 3 3 3 1 3 1 1 1 1 1 1 1 1 1 3 1 1 1 1 2 1 1 1 3 3 1 1 3 1 3 1 3 1 1\n",
            " 1 1 3 3 1 3 1 1 1 1 3 1 1 1 3 3 3 1 1 1 1 1 3 1 1 1 1 1 1 1 3 1 1 3 1 1 3\n",
            " 1 1 1 1]\n",
            "[1 1 1 1 1 3 1 1 3 2 1 1 2 1 1 1 1 1 1 1 3 3 1 0 2 1 1 3 1 1 1 1 3 1 1 1 1\n",
            " 1 0 2 1 1 2 1 3 3 1 2 1 1 3 1 0 1 1 0 3 1 1 1 1 1 1 1 1 3 3 1 1 3 1 3 3 1\n",
            " 1 1 1 3 3 1 1 3 1 3 1 1 2 1 1 1 3 1 1 3 1 3 1 1 1 1 1 1 1 1 1 1 1 1 3 0 1\n",
            " 3 1 3 1 3 1 1 1 3 1 1 1 1 1 1 1 3 3 1 1 1 1 1 1 3 1 1 2 3 1 3 1 1 1 1 1 3\n",
            " 1 1 1 1 1 3 1 2 1 1 3 3 1 3 3 1 3 3 1 3 1 1 1 1 1 3 3 1 1 1 1 0 1 1 1 1 3\n",
            " 1 1 1 0 1 3 1 1 3 2 1 1 2 3 1 3 1 1 2 1 3 3 1 1 1 1 3 1 1 1 1 2 1 1 1 1 1\n",
            " 1 3 3 3 3 3 3 3 1 1 3 1 1 1 1 1 1 1 1 1 1 1 3 1 1 1 3 3 1 1 3 1 2 1 3 1 1\n",
            " 1 2 3 3 1 3 1 1 1 3 1 1 3 3 1 3 3 1 1 1 1 1 3 1 1 1 1 1 1 1 3 1 1 3 3 2 3\n",
            " 1 1 1 1]\n"
          ],
          "name": "stdout"
        }
      ]
    },
    {
      "cell_type": "code",
      "metadata": {
        "colab": {
          "base_uri": "https://localhost:8080/"
        },
        "id": "Mv1Mn6IaaewK",
        "outputId": "625d8eb3-087a-4a36-f13f-e93eb1134ff2"
      },
      "source": [
        "from sklearn import metrics\n",
        "\n",
        "print(\"Confusion matrix of the predictions:\\n\", metrics.confusion_matrix(y_test, y_pred))\n",
        "\n",
        "print(\"accuracy of the predictions:\", metrics.accuracy_score(y_test, y_pred))\n",
        "print(\"precision\", metrics.precision_score(y_test, y_pred, average=None))\n"
      ],
      "execution_count": 26,
      "outputs": [
        {
          "output_type": "stream",
          "text": [
            "Confusion matrix of the predictions:\n",
            " [[  0   6   0   1]\n",
            " [  3 179   4  14]\n",
            " [  0  12   1   3]\n",
            " [  0  17   5  55]]\n",
            "accuracy of the predictions: 0.7833333333333333\n",
            "precision [0.         0.8364486  0.1        0.75342466]\n"
          ],
          "name": "stdout"
        }
      ]
    }
  ]
}