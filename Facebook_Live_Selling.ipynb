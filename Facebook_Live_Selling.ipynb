{
  "nbformat": 4,
  "nbformat_minor": 0,
  "metadata": {
    "colab": {
      "name": "Facebook Live Selling.ipynb",
      "provenance": [],
      "collapsed_sections": [],
      "authorship_tag": "ABX9TyOyBu1hVvRuxXjHtIdHrpZL",
      "include_colab_link": true
    },
    "kernelspec": {
      "name": "python3",
      "display_name": "Python 3"
    }
  },
  "cells": [
    {
      "cell_type": "markdown",
      "metadata": {
        "id": "view-in-github",
        "colab_type": "text"
      },
      "source": [
        "<a href=\"https://colab.research.google.com/github/pablojgm/AICamp/blob/main/Facebook_Live_Selling.ipynb\" target=\"_parent\"><img src=\"https://colab.research.google.com/assets/colab-badge.svg\" alt=\"Open In Colab\"/></a>"
      ]
    },
    {
      "cell_type": "markdown",
      "metadata": {
        "id": "cL5SWf0zb9hv"
      },
      "source": [
        "Milestone Project - Facebook dataset\n",
        "\n",
        "Step 1:\n",
        "You need to implement two important tasks in this step:\n",
        "  1) Read the data files in each dataset and prepare them as dataframes.\n",
        "  2) Implement three supervised machine learning methods on each dataset including\n",
        "      a) Regression\n",
        "      b) Random forest \n",
        "      c) k-NN\n",
        "\n",
        "Step 2​:\n",
        "You need to practice two important tasks in this step:\n",
        "  1) Implement the following dimensionality reduction methods on each one of these datasets\n",
        "      a) PCA \n",
        "      b) t-SNE \n",
        "      c) UMAP\n",
        "  2) Implement PCA and then implement three supervised machine learning methods on each dataset including\n",
        "      a) Regression\n",
        "      b) Random forest \n",
        "      c) k-NN\n",
        "\n",
        "Step 3​:\n",
        "You need to practice clustering in this step:\n",
        "  1) Read the data files in each dataset and prepare them as data frames. \n",
        "  2) Implement different clustering on each dataset including"
      ]
    },
    {
      "cell_type": "markdown",
      "metadata": {
        "id": "kk1znprjpF4T"
      },
      "source": [
        "# STEP 1"
      ]
    },
    {
      "cell_type": "code",
      "metadata": {
        "colab": {
          "base_uri": "https://localhost:8080/",
          "height": 470
        },
        "id": "PC0nWxVae2uf",
        "outputId": "51afa040-4400-436c-dff7-34163ac4c03f"
      },
      "source": [
        "import numpy as np\n",
        "import matplotlib.pyplot as plt\n",
        "import pandas as pd\n",
        "\n",
        "url = \"https://archive.ics.uci.edu/ml/machine-learning-databases/00488/Live_20210128.csv\"\n",
        "dataset = pd.read_csv(url,index_col=0)\n",
        "\n",
        "dataset"
      ],
      "execution_count": 2,
      "outputs": [
        {
          "output_type": "execute_result",
          "data": {
            "text/html": [
              "<div>\n",
              "<style scoped>\n",
              "    .dataframe tbody tr th:only-of-type {\n",
              "        vertical-align: middle;\n",
              "    }\n",
              "\n",
              "    .dataframe tbody tr th {\n",
              "        vertical-align: top;\n",
              "    }\n",
              "\n",
              "    .dataframe thead th {\n",
              "        text-align: right;\n",
              "    }\n",
              "</style>\n",
              "<table border=\"1\" class=\"dataframe\">\n",
              "  <thead>\n",
              "    <tr style=\"text-align: right;\">\n",
              "      <th></th>\n",
              "      <th>status_type</th>\n",
              "      <th>status_published</th>\n",
              "      <th>num_reactions</th>\n",
              "      <th>num_comments</th>\n",
              "      <th>num_shares</th>\n",
              "      <th>num_likes</th>\n",
              "      <th>num_loves</th>\n",
              "      <th>num_wows</th>\n",
              "      <th>num_hahas</th>\n",
              "      <th>num_sads</th>\n",
              "      <th>num_angrys</th>\n",
              "      <th>Column1</th>\n",
              "      <th>Column2</th>\n",
              "      <th>Column3</th>\n",
              "      <th>Column4</th>\n",
              "    </tr>\n",
              "    <tr>\n",
              "      <th>status_id</th>\n",
              "      <th></th>\n",
              "      <th></th>\n",
              "      <th></th>\n",
              "      <th></th>\n",
              "      <th></th>\n",
              "      <th></th>\n",
              "      <th></th>\n",
              "      <th></th>\n",
              "      <th></th>\n",
              "      <th></th>\n",
              "      <th></th>\n",
              "      <th></th>\n",
              "      <th></th>\n",
              "      <th></th>\n",
              "      <th></th>\n",
              "    </tr>\n",
              "  </thead>\n",
              "  <tbody>\n",
              "    <tr>\n",
              "      <th>1</th>\n",
              "      <td>video</td>\n",
              "      <td>4/22/2018 6:00</td>\n",
              "      <td>529</td>\n",
              "      <td>512</td>\n",
              "      <td>262</td>\n",
              "      <td>432</td>\n",
              "      <td>92</td>\n",
              "      <td>3</td>\n",
              "      <td>1</td>\n",
              "      <td>1</td>\n",
              "      <td>0</td>\n",
              "      <td>NaN</td>\n",
              "      <td>NaN</td>\n",
              "      <td>NaN</td>\n",
              "      <td>NaN</td>\n",
              "    </tr>\n",
              "    <tr>\n",
              "      <th>2</th>\n",
              "      <td>photo</td>\n",
              "      <td>4/21/2018 22:45</td>\n",
              "      <td>150</td>\n",
              "      <td>0</td>\n",
              "      <td>0</td>\n",
              "      <td>150</td>\n",
              "      <td>0</td>\n",
              "      <td>0</td>\n",
              "      <td>0</td>\n",
              "      <td>0</td>\n",
              "      <td>0</td>\n",
              "      <td>NaN</td>\n",
              "      <td>NaN</td>\n",
              "      <td>NaN</td>\n",
              "      <td>NaN</td>\n",
              "    </tr>\n",
              "    <tr>\n",
              "      <th>3</th>\n",
              "      <td>video</td>\n",
              "      <td>4/21/2018 6:17</td>\n",
              "      <td>227</td>\n",
              "      <td>236</td>\n",
              "      <td>57</td>\n",
              "      <td>204</td>\n",
              "      <td>21</td>\n",
              "      <td>1</td>\n",
              "      <td>1</td>\n",
              "      <td>0</td>\n",
              "      <td>0</td>\n",
              "      <td>NaN</td>\n",
              "      <td>NaN</td>\n",
              "      <td>NaN</td>\n",
              "      <td>NaN</td>\n",
              "    </tr>\n",
              "    <tr>\n",
              "      <th>4</th>\n",
              "      <td>photo</td>\n",
              "      <td>4/21/2018 2:29</td>\n",
              "      <td>111</td>\n",
              "      <td>0</td>\n",
              "      <td>0</td>\n",
              "      <td>111</td>\n",
              "      <td>0</td>\n",
              "      <td>0</td>\n",
              "      <td>0</td>\n",
              "      <td>0</td>\n",
              "      <td>0</td>\n",
              "      <td>NaN</td>\n",
              "      <td>NaN</td>\n",
              "      <td>NaN</td>\n",
              "      <td>NaN</td>\n",
              "    </tr>\n",
              "    <tr>\n",
              "      <th>5</th>\n",
              "      <td>photo</td>\n",
              "      <td>4/18/2018 3:22</td>\n",
              "      <td>213</td>\n",
              "      <td>0</td>\n",
              "      <td>0</td>\n",
              "      <td>204</td>\n",
              "      <td>9</td>\n",
              "      <td>0</td>\n",
              "      <td>0</td>\n",
              "      <td>0</td>\n",
              "      <td>0</td>\n",
              "      <td>NaN</td>\n",
              "      <td>NaN</td>\n",
              "      <td>NaN</td>\n",
              "      <td>NaN</td>\n",
              "    </tr>\n",
              "    <tr>\n",
              "      <th>...</th>\n",
              "      <td>...</td>\n",
              "      <td>...</td>\n",
              "      <td>...</td>\n",
              "      <td>...</td>\n",
              "      <td>...</td>\n",
              "      <td>...</td>\n",
              "      <td>...</td>\n",
              "      <td>...</td>\n",
              "      <td>...</td>\n",
              "      <td>...</td>\n",
              "      <td>...</td>\n",
              "      <td>...</td>\n",
              "      <td>...</td>\n",
              "      <td>...</td>\n",
              "      <td>...</td>\n",
              "    </tr>\n",
              "    <tr>\n",
              "      <th>7046</th>\n",
              "      <td>photo</td>\n",
              "      <td>9/24/2016 2:58</td>\n",
              "      <td>89</td>\n",
              "      <td>0</td>\n",
              "      <td>0</td>\n",
              "      <td>89</td>\n",
              "      <td>0</td>\n",
              "      <td>0</td>\n",
              "      <td>0</td>\n",
              "      <td>0</td>\n",
              "      <td>0</td>\n",
              "      <td>NaN</td>\n",
              "      <td>NaN</td>\n",
              "      <td>NaN</td>\n",
              "      <td>NaN</td>\n",
              "    </tr>\n",
              "    <tr>\n",
              "      <th>7047</th>\n",
              "      <td>photo</td>\n",
              "      <td>9/23/2016 11:19</td>\n",
              "      <td>16</td>\n",
              "      <td>0</td>\n",
              "      <td>0</td>\n",
              "      <td>14</td>\n",
              "      <td>1</td>\n",
              "      <td>0</td>\n",
              "      <td>1</td>\n",
              "      <td>0</td>\n",
              "      <td>0</td>\n",
              "      <td>NaN</td>\n",
              "      <td>NaN</td>\n",
              "      <td>NaN</td>\n",
              "      <td>NaN</td>\n",
              "    </tr>\n",
              "    <tr>\n",
              "      <th>7048</th>\n",
              "      <td>photo</td>\n",
              "      <td>9/21/2016 23:03</td>\n",
              "      <td>2</td>\n",
              "      <td>0</td>\n",
              "      <td>0</td>\n",
              "      <td>1</td>\n",
              "      <td>1</td>\n",
              "      <td>0</td>\n",
              "      <td>0</td>\n",
              "      <td>0</td>\n",
              "      <td>0</td>\n",
              "      <td>NaN</td>\n",
              "      <td>NaN</td>\n",
              "      <td>NaN</td>\n",
              "      <td>NaN</td>\n",
              "    </tr>\n",
              "    <tr>\n",
              "      <th>7049</th>\n",
              "      <td>photo</td>\n",
              "      <td>9/20/2016 0:43</td>\n",
              "      <td>351</td>\n",
              "      <td>12</td>\n",
              "      <td>22</td>\n",
              "      <td>349</td>\n",
              "      <td>2</td>\n",
              "      <td>0</td>\n",
              "      <td>0</td>\n",
              "      <td>0</td>\n",
              "      <td>0</td>\n",
              "      <td>NaN</td>\n",
              "      <td>NaN</td>\n",
              "      <td>NaN</td>\n",
              "      <td>NaN</td>\n",
              "    </tr>\n",
              "    <tr>\n",
              "      <th>7050</th>\n",
              "      <td>photo</td>\n",
              "      <td>9/10/2016 10:30</td>\n",
              "      <td>17</td>\n",
              "      <td>0</td>\n",
              "      <td>0</td>\n",
              "      <td>17</td>\n",
              "      <td>0</td>\n",
              "      <td>0</td>\n",
              "      <td>0</td>\n",
              "      <td>0</td>\n",
              "      <td>0</td>\n",
              "      <td>NaN</td>\n",
              "      <td>NaN</td>\n",
              "      <td>NaN</td>\n",
              "      <td>NaN</td>\n",
              "    </tr>\n",
              "  </tbody>\n",
              "</table>\n",
              "<p>7050 rows × 15 columns</p>\n",
              "</div>"
            ],
            "text/plain": [
              "          status_type status_published  ...  Column3  Column4\n",
              "status_id                               ...                  \n",
              "1               video   4/22/2018 6:00  ...      NaN      NaN\n",
              "2               photo  4/21/2018 22:45  ...      NaN      NaN\n",
              "3               video   4/21/2018 6:17  ...      NaN      NaN\n",
              "4               photo   4/21/2018 2:29  ...      NaN      NaN\n",
              "5               photo   4/18/2018 3:22  ...      NaN      NaN\n",
              "...               ...              ...  ...      ...      ...\n",
              "7046            photo   9/24/2016 2:58  ...      NaN      NaN\n",
              "7047            photo  9/23/2016 11:19  ...      NaN      NaN\n",
              "7048            photo  9/21/2016 23:03  ...      NaN      NaN\n",
              "7049            photo   9/20/2016 0:43  ...      NaN      NaN\n",
              "7050            photo  9/10/2016 10:30  ...      NaN      NaN\n",
              "\n",
              "[7050 rows x 15 columns]"
            ]
          },
          "metadata": {
            "tags": []
          },
          "execution_count": 2
        }
      ]
    },
    {
      "cell_type": "markdown",
      "metadata": {
        "id": "fhhNe0aYBg5p"
      },
      "source": [
        "*num_reaction = num_likes + num_loves + num_wows + num_hahas + num_sads + num_angrys*\n",
        "except for these outliers:"
      ]
    },
    {
      "cell_type": "markdown",
      "metadata": {
        "id": "4T7g8PaYBZWT"
      },
      "source": [
        "\n",
        "![image.png](data:image/png;base64,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)\n"
      ]
    },
    {
      "cell_type": "code",
      "metadata": {
        "colab": {
          "base_uri": "https://localhost:8080/",
          "height": 1000
        },
        "id": "RYZ4Ls7tgYgP",
        "outputId": "2b1c4a7c-d870-44d9-99e5-6ffd30ba3b1f"
      },
      "source": [
        "from sklearn.preprocessing import LabelEncoder\n",
        "import seaborn as sns\n",
        "\n",
        "#data cleaning\n",
        "data = dataset.iloc[:1000,:-4]\n",
        "data['reaction_check'] = data.iloc[:,-6:].sum(axis=1)\n",
        "data['reaction_match'] = data.apply(lambda x: x['num_reactions'] == x['reaction_check'], axis=1)\n",
        "data = data[data.reaction_match == True]\n",
        "data.drop(['reaction_check', 'reaction_match'], axis=1, inplace=True)\n",
        "\n",
        "data.drop(['status_published'], axis=1, inplace=True)\n",
        "\n",
        "data.status_type.value_counts().plot(kind='bar',title=\"Status Type\")\n",
        "\n",
        "data.groupby('status_type').nunique().plot(kind='bar')\n",
        "plt.legend(loc='center left', bbox_to_anchor=(1.0, 0.5))\n",
        "plt.show()\n",
        "\n",
        "#converting object to int\n",
        "le = LabelEncoder()\n",
        "data['status_type'] = le.fit_transform(data['status_type'])\n",
        "\n",
        "target = data['status_type']\n",
        "data.drop(['status_type'], axis=1, inplace=True)\n",
        "\n",
        "print(data.describe())\n",
        "data.info()\n",
        "\n",
        "print(target.describe())\n",
        "\n",
        "sns.heatmap(data.corr(method='pearson'))\n",
        "\n",
        "#sns.pairplot(data)"
      ],
      "execution_count": 3,
      "outputs": [
        {
          "output_type": "display_data",
          "data": {
            "image/png": "[encoded data removed]",
            "text/plain": [
              "<Figure size 432x288 with 1 Axes>"
            ]
          },
          "metadata": {
            "tags": [],
            "needs_background": "light"
          }
        },
        {
          "output_type": "display_data",
          "data": {
            "image/png": "[encoded data removed]",
            "text/plain": [
              "<Figure size 432x288 with 1 Axes>"
            ]
          },
          "metadata": {
            "tags": [],
            "needs_background": "light"
          }
        },
        {
          "output_type": "stream",
          "text": [
            "       num_reactions  num_comments  ...    num_sads  num_angrys\n",
            "count     991.000000    991.000000  ...  991.000000  991.000000\n",
            "mean      207.281534    104.718466  ...    0.463169    0.055499\n",
            "std       214.257196    955.584551  ...    2.692377    0.348079\n",
            "min         0.000000      0.000000  ...    0.000000    0.000000\n",
            "25%        93.500000      3.000000  ...    0.000000    0.000000\n",
            "50%       167.000000      8.000000  ...    0.000000    0.000000\n",
            "75%       266.000000     16.500000  ...    0.000000    0.000000\n",
            "max      4410.000000  20990.000000  ...   51.000000    6.000000\n",
            "\n",
            "[8 rows x 9 columns]\n",
            "<class 'pandas.core.frame.DataFrame'>\n",
            "Int64Index: 991 entries, 1 to 1000\n",
            "Data columns (total 9 columns):\n",
            " #   Column         Non-Null Count  Dtype\n",
            "---  ------         --------------  -----\n",
            " 0   num_reactions  991 non-null    int64\n",
            " 1   num_comments   991 non-null    int64\n",
            " 2   num_shares     991 non-null    int64\n",
            " 3   num_likes      991 non-null    int64\n",
            " 4   num_loves      991 non-null    int64\n",
            " 5   num_wows       991 non-null    int64\n",
            " 6   num_hahas      991 non-null    int64\n",
            " 7   num_sads       991 non-null    int64\n",
            " 8   num_angrys     991 non-null    int64\n",
            "dtypes: int64(9)\n",
            "memory usage: 77.4 KB\n",
            "count    991.000000\n",
            "mean       1.546922\n",
            "std        0.890788\n",
            "min        0.000000\n",
            "25%        1.000000\n",
            "50%        1.000000\n",
            "75%        3.000000\n",
            "max        3.000000\n",
            "Name: status_type, dtype: float64\n"
          ],
          "name": "stdout"
        },
        {
          "output_type": "execute_result",
          "data": {
            "text/plain": [
              "<matplotlib.axes._subplots.AxesSubplot at 0x7f31d036e4d0>"
            ]
          },
          "metadata": {
            "tags": []
          },
          "execution_count": 3
        },
        {
          "output_type": "display_data",
          "data": {
            "image/png": "[encoded data removed]",
            "text/plain": [
              "<Figure size 432x288 with 2 Axes>"
            ]
          },
          "metadata": {
            "tags": [],
            "needs_background": "light"
          }
        }
      ]
    },
    {
      "cell_type": "markdown",
      "metadata": {
        "id": "1JZ1JX3kK6js"
      },
      "source": [
        ""
      ]
    },
    {
      "cell_type": "code",
      "metadata": {
        "colab": {
          "base_uri": "https://localhost:8080/",
          "height": 439
        },
        "id": "jmFKVKzq5i7e",
        "outputId": "ecb8a3f3-816e-491a-aa4f-279b779c7e2c"
      },
      "source": [
        "#from sklearn.preprocessing import MinMaxScaler\n",
        "#from sklearn.preprocessing import Normalizer\n",
        "from sklearn import preprocessing\n",
        "\n",
        "#min_scal = MinMaxScaler()\n",
        "#min_scal = Normalizer()\n",
        "\n",
        "#X = min_scal.fit_transform(data)\n",
        "columns = ['num_reactions', 'num_comments', 'num_shares', 'num_likes', 'num_loves', 'num_wows', 'num_hahas', 'num_sads', 'num_angrys'] \n",
        "#data = pd.DataFrame(X, columns=columns)\n",
        "data = pd.DataFrame(preprocessing.scale(data), columns = columns)\n",
        "data\n"
      ],
      "execution_count": 4,
      "outputs": [
        {
          "output_type": "execute_result",
          "data": {
            "text/html": [
              "<div>\n",
              "<style scoped>\n",
              "    .dataframe tbody tr th:only-of-type {\n",
              "        vertical-align: middle;\n",
              "    }\n",
              "\n",
              "    .dataframe tbody tr th {\n",
              "        vertical-align: top;\n",
              "    }\n",
              "\n",
              "    .dataframe thead th {\n",
              "        text-align: right;\n",
              "    }\n",
              "</style>\n",
              "<table border=\"1\" class=\"dataframe\">\n",
              "  <thead>\n",
              "    <tr style=\"text-align: right;\">\n",
              "      <th></th>\n",
              "      <th>num_reactions</th>\n",
              "      <th>num_comments</th>\n",
              "      <th>num_shares</th>\n",
              "      <th>num_likes</th>\n",
              "      <th>num_loves</th>\n",
              "      <th>num_wows</th>\n",
              "      <th>num_hahas</th>\n",
              "      <th>num_sads</th>\n",
              "      <th>num_angrys</th>\n",
              "    </tr>\n",
              "  </thead>\n",
              "  <tbody>\n",
              "    <tr>\n",
              "      <th>0</th>\n",
              "      <td>1.502311</td>\n",
              "      <td>0.426427</td>\n",
              "      <td>4.888890</td>\n",
              "      <td>1.148865</td>\n",
              "      <td>4.674887</td>\n",
              "      <td>1.042554</td>\n",
              "      <td>0.828726</td>\n",
              "      <td>0.199490</td>\n",
              "      <td>-0.159526</td>\n",
              "    </tr>\n",
              "    <tr>\n",
              "      <th>1</th>\n",
              "      <td>-0.267484</td>\n",
              "      <td>-0.109641</td>\n",
              "      <td>-0.175933</td>\n",
              "      <td>-0.230922</td>\n",
              "      <td>-0.465110</td>\n",
              "      <td>-0.493379</td>\n",
              "      <td>-0.319900</td>\n",
              "      <td>-0.172116</td>\n",
              "      <td>-0.159526</td>\n",
              "    </tr>\n",
              "    <tr>\n",
              "      <th>2</th>\n",
              "      <td>0.092078</td>\n",
              "      <td>0.137453</td>\n",
              "      <td>0.925956</td>\n",
              "      <td>0.033292</td>\n",
              "      <td>0.708150</td>\n",
              "      <td>0.018599</td>\n",
              "      <td>0.828726</td>\n",
              "      <td>-0.172116</td>\n",
              "      <td>-0.159526</td>\n",
              "    </tr>\n",
              "    <tr>\n",
              "      <th>3</th>\n",
              "      <td>-0.449601</td>\n",
              "      <td>-0.109641</td>\n",
              "      <td>-0.175933</td>\n",
              "      <td>-0.421744</td>\n",
              "      <td>-0.465110</td>\n",
              "      <td>-0.493379</td>\n",
              "      <td>-0.319900</td>\n",
              "      <td>-0.172116</td>\n",
              "      <td>-0.159526</td>\n",
              "    </tr>\n",
              "    <tr>\n",
              "      <th>4</th>\n",
              "      <td>0.026703</td>\n",
              "      <td>-0.109641</td>\n",
              "      <td>-0.175933</td>\n",
              "      <td>0.033292</td>\n",
              "      <td>0.037716</td>\n",
              "      <td>-0.493379</td>\n",
              "      <td>-0.319900</td>\n",
              "      <td>-0.172116</td>\n",
              "      <td>-0.159526</td>\n",
              "    </tr>\n",
              "    <tr>\n",
              "      <th>...</th>\n",
              "      <td>...</td>\n",
              "      <td>...</td>\n",
              "      <td>...</td>\n",
              "      <td>...</td>\n",
              "      <td>...</td>\n",
              "      <td>...</td>\n",
              "      <td>...</td>\n",
              "      <td>...</td>\n",
              "      <td>...</td>\n",
              "    </tr>\n",
              "    <tr>\n",
              "      <th>986</th>\n",
              "      <td>-0.244136</td>\n",
              "      <td>-0.104406</td>\n",
              "      <td>-0.175933</td>\n",
              "      <td>-0.206458</td>\n",
              "      <td>-0.465110</td>\n",
              "      <td>-0.493379</td>\n",
              "      <td>-0.319900</td>\n",
              "      <td>-0.172116</td>\n",
              "      <td>-0.159526</td>\n",
              "    </tr>\n",
              "    <tr>\n",
              "      <th>987</th>\n",
              "      <td>-0.188100</td>\n",
              "      <td>-0.092889</td>\n",
              "      <td>-0.175933</td>\n",
              "      <td>-0.147744</td>\n",
              "      <td>-0.465110</td>\n",
              "      <td>-0.493379</td>\n",
              "      <td>-0.319900</td>\n",
              "      <td>-0.172116</td>\n",
              "      <td>-0.159526</td>\n",
              "    </tr>\n",
              "    <tr>\n",
              "      <th>988</th>\n",
              "      <td>-0.234797</td>\n",
              "      <td>-0.096030</td>\n",
              "      <td>-0.175933</td>\n",
              "      <td>-0.196672</td>\n",
              "      <td>-0.465110</td>\n",
              "      <td>-0.493379</td>\n",
              "      <td>-0.319900</td>\n",
              "      <td>-0.172116</td>\n",
              "      <td>-0.159526</td>\n",
              "    </tr>\n",
              "    <tr>\n",
              "      <th>989</th>\n",
              "      <td>-0.496297</td>\n",
              "      <td>-0.102312</td>\n",
              "      <td>-0.175933</td>\n",
              "      <td>-0.470672</td>\n",
              "      <td>-0.465110</td>\n",
              "      <td>-0.493379</td>\n",
              "      <td>-0.319900</td>\n",
              "      <td>-0.172116</td>\n",
              "      <td>-0.159526</td>\n",
              "    </tr>\n",
              "    <tr>\n",
              "      <th>990</th>\n",
              "      <td>0.106087</td>\n",
              "      <td>-0.088701</td>\n",
              "      <td>-0.175933</td>\n",
              "      <td>0.160507</td>\n",
              "      <td>-0.465110</td>\n",
              "      <td>-0.493379</td>\n",
              "      <td>-0.319900</td>\n",
              "      <td>-0.172116</td>\n",
              "      <td>-0.159526</td>\n",
              "    </tr>\n",
              "  </tbody>\n",
              "</table>\n",
              "<p>991 rows × 9 columns</p>\n",
              "</div>"
            ],
            "text/plain": [
              "     num_reactions  num_comments  num_shares  ...  num_hahas  num_sads  num_angrys\n",
              "0         1.502311      0.426427    4.888890  ...   0.828726  0.199490   -0.159526\n",
              "1        -0.267484     -0.109641   -0.175933  ...  -0.319900 -0.172116   -0.159526\n",
              "2         0.092078      0.137453    0.925956  ...   0.828726 -0.172116   -0.159526\n",
              "3        -0.449601     -0.109641   -0.175933  ...  -0.319900 -0.172116   -0.159526\n",
              "4         0.026703     -0.109641   -0.175933  ...  -0.319900 -0.172116   -0.159526\n",
              "..             ...           ...         ...  ...        ...       ...         ...\n",
              "986      -0.244136     -0.104406   -0.175933  ...  -0.319900 -0.172116   -0.159526\n",
              "987      -0.188100     -0.092889   -0.175933  ...  -0.319900 -0.172116   -0.159526\n",
              "988      -0.234797     -0.096030   -0.175933  ...  -0.319900 -0.172116   -0.159526\n",
              "989      -0.496297     -0.102312   -0.175933  ...  -0.319900 -0.172116   -0.159526\n",
              "990       0.106087     -0.088701   -0.175933  ...  -0.319900 -0.172116   -0.159526\n",
              "\n",
              "[991 rows x 9 columns]"
            ]
          },
          "metadata": {
            "tags": []
          },
          "execution_count": 4
        }
      ]
    },
    {
      "cell_type": "markdown",
      "metadata": {
        "id": "7cdbDio3f7J2"
      },
      "source": [
        "### Regression"
      ]
    },
    {
      "cell_type": "code",
      "metadata": {
        "id": "Vb_fRMFZKZr8"
      },
      "source": [
        "from sklearn.model_selection import train_test_split\n",
        "\n",
        "X_train, X_test, y_train, y_test = train_test_split(data, target, test_size=0.30, random_state=5)\n"
      ],
      "execution_count": 5,
      "outputs": []
    },
    {
      "cell_type": "code",
      "metadata": {
        "colab": {
          "base_uri": "https://localhost:8080/"
        },
        "id": "v-thqWsjM1aI",
        "outputId": "75b8b8e7-6f84-4a4a-8b3e-e3d52dcdb60d"
      },
      "source": [
        "from sklearn.linear_model import LinearRegression\n",
        "\n",
        "# Create linear regression object\n",
        "regr = LinearRegression()\n",
        "\n",
        "# Train the model using the training sets\n",
        "regr.fit(X_train, y_train)"
      ],
      "execution_count": 6,
      "outputs": [
        {
          "output_type": "execute_result",
          "data": {
            "text/plain": [
              "LinearRegression(copy_X=True, fit_intercept=True, n_jobs=None, normalize=False)"
            ]
          },
          "metadata": {
            "tags": []
          },
          "execution_count": 6
        }
      ]
    },
    {
      "cell_type": "code",
      "metadata": {
        "id": "PMDWC6W6UkHz"
      },
      "source": [
        "y_pred = regr.predict(X_test)\n",
        "#print(y_pred)"
      ],
      "execution_count": 7,
      "outputs": []
    },
    {
      "cell_type": "code",
      "metadata": {
        "colab": {
          "base_uri": "https://localhost:8080/"
        },
        "id": "EiJfsJD6WKBw",
        "outputId": "e0bb9aac-9a41-44d6-ba9e-9ec1cbf6b4fa"
      },
      "source": [
        "y_pred\n",
        "y_test"
      ],
      "execution_count": 8,
      "outputs": [
        {
          "output_type": "execute_result",
          "data": {
            "text/plain": [
              "status_id\n",
              "980    1\n",
              "290    1\n",
              "817    1\n",
              "231    1\n",
              "61     1\n",
              "      ..\n",
              "876    0\n",
              "569    1\n",
              "879    1\n",
              "666    1\n",
              "542    1\n",
              "Name: status_type, Length: 298, dtype: int64"
            ]
          },
          "metadata": {
            "tags": []
          },
          "execution_count": 8
        }
      ]
    },
    {
      "cell_type": "code",
      "metadata": {
        "colab": {
          "base_uri": "https://localhost:8080/"
        },
        "id": "lkHn_q6hUsTZ",
        "outputId": "cca53656-23c6-4034-e904-8fe7d53d7bab"
      },
      "source": [
        "from sklearn import metrics\n",
        "\n",
        "# The coefficients\n",
        "print('Coefficients: \\n', regr.coef_)\n",
        "# The mean squared error\n",
        "print(\"Mean squared error: %.2f\"\n",
        "      % metrics.mean_squared_error(y_test, y_pred))\n",
        "print(\"Mean absolute error: %.2f\"\n",
        "      % metrics.mean_absolute_error(y_test, y_pred))\n"
      ],
      "execution_count": 9,
      "outputs": [
        {
          "output_type": "stream",
          "text": [
            "Coefficients: \n",
            " [-0.16416872 -0.05061177  0.05240357 -0.21956504  0.53520468 -0.00985377\n",
            "  0.09529788  0.02636159  0.0108818 ]\n",
            "Mean squared error: 0.66\n",
            "Mean absolute error: 0.63\n"
          ],
          "name": "stdout"
        }
      ]
    },
    {
      "cell_type": "markdown",
      "metadata": {
        "id": "2sgayjn-XiMT"
      },
      "source": [
        "### L1 Regularization: Lasso"
      ]
    },
    {
      "cell_type": "code",
      "metadata": {
        "colab": {
          "base_uri": "https://localhost:8080/"
        },
        "id": "lKkSPp_6iPXk",
        "outputId": "4c38fbe6-16b0-4680-eb0b-e3287208108e"
      },
      "source": [
        "from sklearn.linear_model import LinearRegression\n",
        "from sklearn.linear_model import Lasso\n",
        "from sklearn.linear_model import ElasticNet\n",
        "from sklearn.linear_model import Ridge\n",
        "\n",
        "X = data\n",
        "y = target\n",
        "#regr = ElasticNet(alpha=0.5,l1_ratio=0)\n",
        "regr = Lasso(alpha=0.1)\n",
        "regr.fit(X, y)\n",
        "y_pred_reg = regr.predict(X_test)\n",
        "\n",
        "# The coefficients\n",
        "print('Coefficients: \\n', regr.coef_)\n",
        "# The mean squared error\n",
        "print(\"Mean squared error: %.2f\"\n",
        "      % metrics.mean_squared_error(y_test, y_pred_reg))\n",
        "print(\"Mean absolute error: %.2f\"\n",
        "      % metrics.mean_absolute_error(y_test, y_pred_reg))\n"
      ],
      "execution_count": 10,
      "outputs": [
        {
          "output_type": "stream",
          "text": [
            "Coefficients: \n",
            " [-0.          0.          0.         -0.0807797   0.27354469 -0.\n",
            "  0.06455153 -0.          0.        ]\n",
            "Mean squared error: 0.58\n",
            "Mean absolute error: 0.65\n"
          ],
          "name": "stdout"
        }
      ]
    },
    {
      "cell_type": "markdown",
      "metadata": {
        "id": "vfFcBZCyXq6r"
      },
      "source": [
        "### L2 Regularization: Ridge"
      ]
    },
    {
      "cell_type": "code",
      "metadata": {
        "colab": {
          "base_uri": "https://localhost:8080/"
        },
        "id": "mi0sPMtaXKD4",
        "outputId": "829ebd8b-175d-4a06-85e6-d45f4c9e4b1b"
      },
      "source": [
        "from sklearn.linear_model import LinearRegression\n",
        "from sklearn.linear_model import Lasso\n",
        "from sklearn.linear_model import ElasticNet\n",
        "from sklearn.linear_model import Ridge\n",
        "\n",
        "X = data\n",
        "y = target\n",
        "#regr = ElasticNet(alpha=0.5,l1_ratio=0)\n",
        "regr = Ridge(alpha=1)\n",
        "regr.fit(X, y)\n",
        "y_pred_reg = regr.predict(X_test)\n",
        "\n",
        "# The coefficients\n",
        "print('Coefficients: \\n', regr.coef_)\n",
        "# The mean squared error\n",
        "print(\"Mean squared error: %.2f\"\n",
        "      % metrics.mean_squared_error(y_test, y_pred_reg))\n",
        "print(\"Mean absolute error: %.2f\"\n",
        "      % metrics.mean_absolute_error(y_test, y_pred_reg))\n"
      ],
      "execution_count": 27,
      "outputs": [
        {
          "output_type": "stream",
          "text": [
            "Coefficients: \n",
            " [-0.11601558 -0.02611051  0.06220001 -0.15839931  0.41903204 -0.01151605\n",
            "  0.13831274 -0.02360237 -0.01629543]\n",
            "Mean squared error: 0.57\n",
            "Mean absolute error: 0.61\n"
          ],
          "name": "stdout"
        }
      ]
    },
    {
      "cell_type": "markdown",
      "metadata": {
        "id": "4_il8YR1fkfl"
      },
      "source": [
        "### Random forest"
      ]
    },
    {
      "cell_type": "code",
      "metadata": {
        "colab": {
          "base_uri": "https://localhost:8080/"
        },
        "id": "bKiVZQTHfxZT",
        "outputId": "69d21202-d2a5-4c1a-a0f1-d87f6b8c6a8b"
      },
      "source": [
        "# Random Forest Classification\n",
        "import pandas\n",
        "from sklearn import model_selection\n",
        "from sklearn.ensemble import RandomForestClassifier\n",
        "from sklearn import datasets\n",
        "import pandas\n",
        "from sklearn import model_selection\n",
        "X = data\n",
        "Y = target\n",
        "num_trees = 5\n",
        "max_features = 4\n",
        "kfold = model_selection.KFold(n_splits=10, random_state=5)\n",
        "model = RandomForestClassifier(n_estimators=num_trees, max_features=max_features, max_depth=3)\n",
        "results = model_selection.cross_val_score(model, X, Y, cv=kfold)\n",
        "print(results.mean())"
      ],
      "execution_count": 11,
      "outputs": [
        {
          "output_type": "stream",
          "text": [
            "0.8071616161616163\n"
          ],
          "name": "stdout"
        },
        {
          "output_type": "stream",
          "text": [
            "/usr/local/lib/python3.7/dist-packages/sklearn/model_selection/_split.py:296: FutureWarning: Setting a random_state has no effect since shuffle is False. This will raise an error in 0.24. You should leave random_state to its default (None), or set shuffle=True.\n",
            "  FutureWarning\n"
          ],
          "name": "stderr"
        }
      ]
    },
    {
      "cell_type": "markdown",
      "metadata": {
        "id": "LP4aZpX0Y2Wv"
      },
      "source": [
        "### k-NN"
      ]
    },
    {
      "cell_type": "code",
      "metadata": {
        "colab": {
          "base_uri": "https://localhost:8080/"
        },
        "id": "Y6bp27PlY1ac",
        "outputId": "b283c1d0-03e7-4e29-c82f-5c3e7f3b25d8"
      },
      "source": [
        "from sklearn.neighbors import KNeighborsClassifier\n",
        "\n",
        "# Initialize our classifier, weight(\"uniform\")\n",
        "knn = KNeighborsClassifier(n_neighbors=12, weights='distance')\n",
        "\n",
        "# Fitting the model with the data\n",
        "knn.fit(X_train, y_train)"
      ],
      "execution_count": 12,
      "outputs": [
        {
          "output_type": "execute_result",
          "data": {
            "text/plain": [
              "KNeighborsClassifier(algorithm='auto', leaf_size=30, metric='minkowski',\n",
              "                     metric_params=None, n_jobs=None, n_neighbors=12, p=2,\n",
              "                     weights='distance')"
            ]
          },
          "metadata": {
            "tags": []
          },
          "execution_count": 12
        }
      ]
    },
    {
      "cell_type": "code",
      "metadata": {
        "colab": {
          "base_uri": "https://localhost:8080/"
        },
        "id": "T-_oFLiFZKtF",
        "outputId": "856610ab-1e13-49f5-885e-cba3c8675502"
      },
      "source": [
        "y_pred = knn.predict(X_test)\n",
        "print(y_pred)\n",
        "print(y_test.values)"
      ],
      "execution_count": 13,
      "outputs": [
        {
          "output_type": "stream",
          "text": [
            "[3 1 1 1 1 1 1 1 1 1 2 3 1 1 3 1 3 1 1 2 1 1 3 1 1 1 1 3 1 1 3 1 3 1 1 3 1\n",
            " 1 1 3 1 1 1 3 1 1 1 1 1 1 1 1 1 1 1 3 1 3 1 1 1 1 1 1 1 2 1 1 1 1 1 1 3 1\n",
            " 1 2 1 1 1 1 1 1 1 3 1 1 1 3 2 1 2 1 2 3 3 3 1 1 1 3 1 1 1 1 3 1 3 3 1 1 1\n",
            " 1 1 1 1 3 1 1 3 3 3 1 1 1 1 1 1 1 1 1 3 1 1 3 1 1 1 3 1 1 3 3 1 1 1 1 1 1\n",
            " 3 1 1 1 3 1 1 3 1 3 1 1 1 1 1 1 1 1 3 1 3 1 3 1 1 1 1 1 1 1 1 1 1 1 3 1 1\n",
            " 1 1 1 1 3 1 1 1 1 1 1 1 1 3 3 1 1 0 1 1 3 1 1 1 1 1 1 1 1 1 1 1 3 1 3 1 1\n",
            " 1 1 1 1 1 1 1 1 1 1 1 1 1 1 3 1 1 1 1 1 1 3 1 1 1 1 1 1 1 1 1 3 3 1 1 1 1\n",
            " 3 1 1 1 3 1 1 1 1 1 1 1 1 1 3 1 1 1 1 1 3 1 3 1 1 1 0 1 3 1 1 1 3 1 3 1 1\n",
            " 1 1]\n",
            "[1 1 1 1 1 1 1 2 1 1 1 1 2 1 3 1 3 1 1 1 1 1 3 1 1 1 1 3 1 0 3 1 3 1 2 3 1\n",
            " 1 2 3 1 1 1 1 1 3 1 1 1 1 1 1 1 1 3 3 1 3 1 1 1 1 1 3 1 3 1 2 1 1 3 1 1 1\n",
            " 1 1 1 1 2 1 1 3 1 3 1 1 1 1 2 3 1 1 1 3 1 3 1 1 1 3 1 1 1 1 3 1 1 3 1 3 3\n",
            " 1 3 1 1 2 1 1 3 3 3 3 1 1 1 1 1 2 1 1 3 1 1 3 1 1 1 3 1 3 3 3 3 1 1 1 1 1\n",
            " 1 1 1 1 3 0 1 3 1 1 2 1 1 1 1 3 1 1 1 1 3 0 1 3 1 1 1 1 1 1 1 1 1 1 2 2 3\n",
            " 1 3 1 1 3 1 3 1 1 3 1 1 1 2 3 1 1 1 1 2 3 1 1 1 1 1 1 1 1 1 1 1 3 3 3 1 1\n",
            " 1 1 1 0 1 2 1 1 1 1 1 1 2 3 3 2 1 1 1 1 3 3 1 1 1 1 1 1 1 1 1 3 1 3 1 3 1\n",
            " 3 1 1 1 1 1 1 3 1 1 1 1 1 3 3 1 3 1 1 1 3 1 1 1 1 1 0 1 3 1 1 1 3 1 0 1 1\n",
            " 1 1]\n"
          ],
          "name": "stdout"
        }
      ]
    },
    {
      "cell_type": "code",
      "metadata": {
        "colab": {
          "base_uri": "https://localhost:8080/"
        },
        "id": "Mv1Mn6IaaewK",
        "outputId": "b37db0fa-5d31-4994-d481-d422e8b026a0"
      },
      "source": [
        "from sklearn import metrics\n",
        "\n",
        "print(\"Confusion matrix of the predictions:\\n\", metrics.confusion_matrix(y_test, y_pred))\n",
        "\n",
        "print(\"accuracy of the predictions:\", metrics.accuracy_score(y_test, y_pred))\n",
        "print(\"precision\", metrics.precision_score(y_test, y_pred, average=None))\n",
        "print(\"recall\", metrics.recall_score(y_test, y_pred, average=None))\n"
      ],
      "execution_count": 14,
      "outputs": [
        {
          "output_type": "stream",
          "text": [
            "Confusion matrix of the predictions:\n",
            " [[  1   4   0   1]\n",
            " [  1 188   5  14]\n",
            " [  0  13   1   3]\n",
            " [  0  26   1  40]]\n",
            "accuracy of the predictions: 0.7718120805369127\n",
            "precision [0.5        0.81385281 0.14285714 0.68965517]\n",
            "recall [0.16666667 0.90384615 0.05882353 0.59701493]\n"
          ],
          "name": "stdout"
        }
      ]
    },
    {
      "cell_type": "code",
      "metadata": {
        "colab": {
          "base_uri": "https://localhost:8080/",
          "height": 295
        },
        "id": "rMcQ5DLFdGDb",
        "outputId": "1aeaeb19-4dc9-4d7e-b20d-3584412093fc"
      },
      "source": [
        "k_range = list(range(1,20))\n",
        "scores = []\n",
        "for k in k_range:\n",
        "    knn = KNeighborsClassifier(n_neighbors=k)\n",
        "    knn.fit(X_train, y_train)\n",
        "    y_pred = knn.predict(X_test)\n",
        "    scores.append(metrics.accuracy_score(y_test, y_pred))\n",
        "    \n",
        "plt.plot(k_range, scores)\n",
        "plt.xlabel('Value of k for KNN')\n",
        "plt.ylabel('Accuracy Score')\n",
        "plt.title('Accuracy Scores for Values of k of k-Nearest-Neighbors')\n",
        "plt.show()"
      ],
      "execution_count": 15,
      "outputs": [
        {
          "output_type": "display_data",
          "data": {
            "image/png": "[encoded data removed]",
            "text/plain": [
              "<Figure size 432x288 with 1 Axes>"
            ]
          },
          "metadata": {
            "tags": [],
            "needs_background": "light"
          }
        }
      ]
    },
    {
      "cell_type": "markdown",
      "metadata": {
        "id": "5E9loORipO3T"
      },
      "source": [
        "# STEP 2"
      ]
    },
    {
      "cell_type": "markdown",
      "metadata": {
        "id": "8-8CFBsDpVo6"
      },
      "source": [
        "## PCA"
      ]
    },
    {
      "cell_type": "code",
      "metadata": {
        "colab": {
          "base_uri": "https://localhost:8080/",
          "height": 315
        },
        "id": "cr2_h1djpTqS",
        "outputId": "0b428c87-c4fb-489f-f316-2ea0463e6d52"
      },
      "source": [
        "####\n",
        "combined = pd.DataFrame(data)\n",
        "print(combined.shape)\n",
        "####\n",
        "from sklearn import decomposition\n",
        "\n",
        "combined_pca = decomposition.PCA(n_components=2,whiten=True).fit_transform(combined)\n",
        "combined_ica = decomposition.FastICA(n_components=2, random_state=5).fit_transform(combined)\n",
        "\n",
        "fig, (ax1, ax2) = plt.subplots(1, 2, sharey=True)\n",
        "\n",
        "ax1.scatter(combined_pca[0:500,0], combined_pca[0:500,1], c='blue')\n",
        "ax1.scatter(combined_pca[500:1000,0], combined_pca[500:1000,1], c='green')\n",
        "ax1.set_title('PCA')\n",
        "\n",
        "ax2.scatter(combined_ica[0:500,0], combined_ica[0:500,1], c='blue')\n",
        "ax2.scatter(combined_ica[500:1000,0], combined_ica[500:1000,1], c='green')\n",
        "ax2.set_title('ICA')"
      ],
      "execution_count": 16,
      "outputs": [
        {
          "output_type": "stream",
          "text": [
            "(991, 9)\n"
          ],
          "name": "stdout"
        },
        {
          "output_type": "execute_result",
          "data": {
            "text/plain": [
              "Text(0.5, 1.0, 'ICA')"
            ]
          },
          "metadata": {
            "tags": []
          },
          "execution_count": 16
        },
        {
          "output_type": "display_data",
          "data": {
            "image/png": "[encoded data removed]",
            "text/plain": [
              "<Figure size 432x288 with 2 Axes>"
            ]
          },
          "metadata": {
            "tags": [],
            "needs_background": "light"
          }
        }
      ]
    },
    {
      "cell_type": "code",
      "metadata": {
        "colab": {
          "base_uri": "https://localhost:8080/"
        },
        "id": "ExDJhGv6redI",
        "outputId": "88aa668f-cd5e-4877-d452-1da66e37ae84"
      },
      "source": [
        "component_num = 2\n",
        "pca = decomposition.PCA(n_components=component_num)\n",
        "pca.fit_transform(combined)\n",
        "\n",
        "## Explained variance ratio by PCs\n",
        "print(pca.explained_variance_ratio_)\n",
        "## Singular values\n",
        "print(pca.singular_values_)\n",
        "## Get the coefficients of each original feature in building the PCs\n",
        "print(pd.DataFrame(pca.components_,columns=combined.columns,index = ['PC1','PC2']))\n",
        "\n",
        "\n",
        "#ica = decomposition.FastICA(n_components=component_num)\n",
        "#ica.fit_transform(combined)\n",
        "## Mixing matrix for ICA\n",
        "# print(ica.mixing_)"
      ],
      "execution_count": 17,
      "outputs": [
        {
          "output_type": "stream",
          "text": [
            "[0.37950585 0.15892029]\n",
            "[58.17914259 37.64850642]\n",
            "     num_reactions  num_comments  num_shares  ...  num_hahas  num_sads  num_angrys\n",
            "PC1       0.469420      0.197461    0.304079  ...   0.326982   0.05883    0.219901\n",
            "PC2       0.350883     -0.393741    0.009585  ...  -0.388500  -0.07755   -0.438192\n",
            "\n",
            "[2 rows x 9 columns]\n"
          ],
          "name": "stdout"
        }
      ]
    },
    {
      "cell_type": "code",
      "metadata": {
        "id": "LwNxD_No7Uvi"
      },
      "source": [
        "def embedding_plot(X,labels,title):\n",
        "  plt.scatter(X[:, 0], X[:, 1], c=labels, cmap='Spectral', s=5)\n",
        "  plt.gca().set_facecolor((1, 1, 1))\n",
        "  plt.xlabel('1st dimension')\n",
        "  plt.ylabel('2nd dimension')\n",
        "  plt.colorbar(boundaries=np.arange(11)-0.5).set_ticks(np.arange(10))\n",
        "  plt.grid(False)\n",
        "  plt.title(title, fontsize=24);"
      ],
      "execution_count": 18,
      "outputs": []
    },
    {
      "cell_type": "code",
      "metadata": {
        "colab": {
          "base_uri": "https://localhost:8080/",
          "height": 304
        },
        "id": "Rrq9cArH7Xxk",
        "outputId": "63190319-f713-4c4e-8a4f-064bb103042a"
      },
      "source": [
        "from sklearn import decomposition\n",
        "\n",
        "X_pca = decomposition.PCA(n_components=2).fit_transform(data)\n",
        "X_pca.shape\n",
        "\n",
        "embedding_plot(X_pca, target,\"PCA\")"
      ],
      "execution_count": 19,
      "outputs": [
        {
          "output_type": "display_data",
          "data": {
            "image/png": "[encoded data removed]",
            "text/plain": [
              "<Figure size 432x288 with 2 Axes>"
            ]
          },
          "metadata": {
            "tags": [],
            "needs_background": "light"
          }
        }
      ]
    },
    {
      "cell_type": "code",
      "metadata": {
        "id": "PZ0p7MOg7r3B"
      },
      "source": [
        "plt.scatter(X_pca[:,0], X_pca[:,1], s=5)\n",
        "plt.gca().set_facecolor((1, 1, 1))"
      ],
      "execution_count": null,
      "outputs": []
    },
    {
      "cell_type": "code",
      "metadata": {
        "colab": {
          "base_uri": "https://localhost:8080/",
          "height": 296
        },
        "id": "60Klh6Z57ww0",
        "outputId": "e1e3a19a-73e0-4647-c767-f9c21382ee45"
      },
      "source": [
        "component_num = X.shape[1]\n",
        "pca = decomposition.PCA(n_components=component_num)\n",
        "pca.fit_transform(X)\n",
        "\n",
        "plt.scatter(range(0,component_num),np.cumsum(pca.explained_variance_ratio_))\n",
        "plt.gca().set_facecolor((1, 1, 1))\n",
        "plt.xlabel('components')\n",
        "plt.ylabel('variance explained')\n",
        "print(pca.explained_variance_ratio_[0:5])"
      ],
      "execution_count": 21,
      "outputs": [
        {
          "output_type": "stream",
          "text": [
            "[0.37950585 0.15892029 0.11583849 0.10395137 0.08304999]\n"
          ],
          "name": "stdout"
        },
        {
          "output_type": "display_data",
          "data": {
            "image/png": "[encoded data removed]",
            "text/plain": [
              "<Figure size 432x288 with 1 Axes>"
            ]
          },
          "metadata": {
            "tags": [],
            "needs_background": "light"
          }
        }
      ]
    },
    {
      "cell_type": "code",
      "metadata": {
        "colab": {
          "base_uri": "https://localhost:8080/"
        },
        "id": "jVO8ZCSb7--I",
        "outputId": "b50fe223-99ef-475e-d436-645e360d69c8"
      },
      "source": [
        "## Singular values\n",
        "print(pca.singular_values_)\n",
        "## Get the coefficients of each original feature in building the PCs\n",
        "print(pd.DataFrame(pca.components_).iloc[0:2,0:9])"
      ],
      "execution_count": 22,
      "outputs": [
        {
          "output_type": "stream",
          "text": [
            "[5.81791426e+01 3.76485064e+01 3.21428605e+01 3.04490103e+01\n",
            " 2.72162249e+01 2.40921553e+01 2.28617973e+01 1.76820530e+01\n",
            " 1.33781687e-14]\n",
            "          0         1         2  ...         6        7         8\n",
            "0  0.469420  0.197461  0.304079  ...  0.326982  0.05883  0.219901\n",
            "1  0.350883 -0.393741  0.009585  ... -0.388500 -0.07755 -0.438192\n",
            "\n",
            "[2 rows x 9 columns]\n"
          ],
          "name": "stdout"
        }
      ]
    },
    {
      "cell_type": "code",
      "metadata": {
        "colab": {
          "base_uri": "https://localhost:8080/",
          "height": 441
        },
        "id": "FyQDy8nUm4Zw",
        "outputId": "ca9cd3bc-418d-4960-bee1-c9c2fc63c204"
      },
      "source": [
        "# we can visualize what the principal components seem to capture.\n",
        "reaction = ['num_reactions', 'num_comments', 'num_shares', 'num_likes', 'num_loves', 'num_wows', 'num_hahas', 'num_sads', 'num_angrys'] # reaction of users.\n",
        "\n",
        "# we'll use first 2 principal components to visualise feature importance.\n",
        "loadings = pd.DataFrame({'PC1':pca.components_[0],'PC2':pca.components_[1], 'Feature':reaction})\n",
        "loadings\n",
        "\n",
        "fig = plt.figure(figsize = (6,6))\n",
        "plt.scatter(loadings.PC1, loadings.PC2)\n",
        "plt.xlabel('Principal Component 1')\n",
        "plt.ylabel('Principal Component 2')\n",
        "for i, txt in enumerate(loadings.Feature):\n",
        "    plt.annotate(txt, (loadings.PC1[i],loadings.PC2[i]))\n",
        "plt.tight_layout()\n",
        "plt.show()"
      ],
      "execution_count": 23,
      "outputs": [
        {
          "output_type": "display_data",
          "data": {
            "image/png": "[encoded data removed]",
            "text/plain": [
              "<Figure size 432x432 with 1 Axes>"
            ]
          },
          "metadata": {
            "tags": [],
            "needs_background": "light"
          }
        }
      ]
    },
    {
      "cell_type": "markdown",
      "metadata": {
        "id": "h93fATHfsIby"
      },
      "source": [
        "## t-SNE / UMAP"
      ]
    },
    {
      "cell_type": "code",
      "metadata": {
        "colab": {
          "base_uri": "https://localhost:8080/",
          "height": 315
        },
        "id": "Aa0lnSTAsOSx",
        "outputId": "4a644f60-9fa7-4474-fa2d-0d0fd2715794"
      },
      "source": [
        "####\n",
        "combined = data\n",
        "print(combined.shape)\n",
        "####\n",
        "from sklearn import manifold\n",
        "combined_tSNE = manifold.TSNE(n_components=2, init='pca',perplexity=30,learning_rate=200,n_iter=500,random_state=2).fit_transform(combined)\n",
        "####\n",
        "import umap\n",
        "combined_UMAP = umap.UMAP(n_neighbors=5, min_dist=0.3, n_components=2,random_state=2).fit_transform(combined)\n",
        "\n",
        "fig, (ax1, ax2) = plt.subplots(1, 2, sharey=True)\n",
        "\n",
        "ax1.scatter(combined_tSNE[0:500,0], combined_tSNE[0:500,1], c='blue')\n",
        "ax1.scatter(combined_tSNE[500:1000,0], combined_tSNE[500:1000,1], c='green')\n",
        "ax1.set_title('t-SNE')\n",
        "\n",
        "ax2.scatter(combined_UMAP[0:500,0], combined_UMAP[0:500,1], c='blue')\n",
        "ax2.scatter(combined_UMAP[500:1000,0], combined_UMAP[500:1000,1], c='green')\n",
        "ax2.set_title('UMAP')"
      ],
      "execution_count": 24,
      "outputs": [
        {
          "output_type": "stream",
          "text": [
            "(991, 9)\n"
          ],
          "name": "stdout"
        },
        {
          "output_type": "execute_result",
          "data": {
            "text/plain": [
              "Text(0.5, 1.0, 'UMAP')"
            ]
          },
          "metadata": {
            "tags": []
          },
          "execution_count": 24
        },
        {
          "output_type": "display_data",
          "data": {
            "image/png": "[encoded data removed]",
            "text/plain": [
              "<Figure size 432x288 with 2 Axes>"
            ]
          },
          "metadata": {
            "tags": [],
            "needs_background": "light"
          }
        }
      ]
    },
    {
      "cell_type": "markdown",
      "metadata": {
        "id": "dPzOgepefQRa"
      },
      "source": [
        "## PCA + 3 Supervised ML methods"
      ]
    },
    {
      "cell_type": "code",
      "metadata": {
        "id": "QI2-pucddrFA"
      },
      "source": [
        "data_pca = pd.DataFrame(combined_pca)\n",
        "#data_pca\n",
        "\n",
        "from sklearn.model_selection import train_test_split\n",
        "\n",
        "X_train, X_test, y_train, y_test = train_test_split(data_pca, target, test_size=0.30, random_state=5)\n"
      ],
      "execution_count": 34,
      "outputs": []
    },
    {
      "cell_type": "code",
      "metadata": {
        "colab": {
          "base_uri": "https://localhost:8080/"
        },
        "id": "cftK0gPgdrFB",
        "outputId": "f06f5e08-f872-46c8-e28a-bceffb1bf089"
      },
      "source": [
        "from sklearn.linear_model import LinearRegression\n",
        "\n",
        "# Create linear regression object\n",
        "regr = LinearRegression()\n",
        "\n",
        "# Train the model using the training sets\n",
        "regr.fit(X_train, y_train)"
      ],
      "execution_count": 35,
      "outputs": [
        {
          "output_type": "execute_result",
          "data": {
            "text/plain": [
              "LinearRegression(copy_X=True, fit_intercept=True, n_jobs=None, normalize=False)"
            ]
          },
          "metadata": {
            "tags": []
          },
          "execution_count": 35
        }
      ]
    },
    {
      "cell_type": "code",
      "metadata": {
        "id": "FKyPJRkhdrFC"
      },
      "source": [
        "y_pred = regr.predict(X_test)\n",
        "#print(y_pred)"
      ],
      "execution_count": 36,
      "outputs": []
    },
    {
      "cell_type": "code",
      "metadata": {
        "colab": {
          "base_uri": "https://localhost:8080/"
        },
        "id": "ws6f7m-ldrFC",
        "outputId": "666b81e3-dcbf-4c7a-f049-afecf734c701"
      },
      "source": [
        "y_pred\n",
        "y_test"
      ],
      "execution_count": 37,
      "outputs": [
        {
          "output_type": "execute_result",
          "data": {
            "text/plain": [
              "status_id\n",
              "980    1\n",
              "290    1\n",
              "817    1\n",
              "231    1\n",
              "61     1\n",
              "      ..\n",
              "876    0\n",
              "569    1\n",
              "879    1\n",
              "666    1\n",
              "542    1\n",
              "Name: status_type, Length: 298, dtype: int64"
            ]
          },
          "metadata": {
            "tags": []
          },
          "execution_count": 37
        }
      ]
    },
    {
      "cell_type": "code",
      "metadata": {
        "colab": {
          "base_uri": "https://localhost:8080/"
        },
        "id": "1_m66PFcdrFD",
        "outputId": "36e04328-cab5-42c7-8f22-a980efcf729d"
      },
      "source": [
        "from sklearn import metrics\n",
        "\n",
        "# The coefficients\n",
        "print('Coefficients: \\n', regr.coef_)\n",
        "# The mean squared error\n",
        "print(\"Mean squared error: %.2f\"\n",
        "      % metrics.mean_squared_error(y_test, y_pred))\n",
        "print(\"Mean absolute error: %.2f\"\n",
        "      % metrics.mean_absolute_error(y_test, y_pred))\n"
      ],
      "execution_count": 38,
      "outputs": [
        {
          "output_type": "stream",
          "text": [
            "Coefficients: \n",
            " [ 0.16358881 -0.37647609]\n",
            "Mean squared error: 0.63\n",
            "Mean absolute error: 0.67\n"
          ],
          "name": "stdout"
        }
      ]
    },
    {
      "cell_type": "markdown",
      "metadata": {
        "id": "3s_PgZ5iCeLx"
      },
      "source": [
        "# STEP 3"
      ]
    },
    {
      "cell_type": "code",
      "metadata": {
        "colab": {
          "base_uri": "https://localhost:8080/",
          "height": 352
        },
        "id": "t7yt88RDEDYf",
        "outputId": "7b7aea7b-7f8b-4bf5-d759-141c2efe80ed"
      },
      "source": [
        "####\n",
        "combined = data\n",
        "####\n",
        "from sklearn import cluster\n",
        "\n",
        "combined_AC = cluster.AgglomerativeClustering(n_clusters=3,affinity='euclidean', linkage='complete').fit(combined)\n",
        "combined_KMeans = cluster.KMeans(n_clusters=2,max_iter=300).fit(combined)\n",
        "combined_AP = cluster.AffinityPropagation( max_iter=200, convergence_iter=15).fit(combined)\n",
        "combined_DB = cluster.DBSCAN(eps=0.5, min_samples=8).fit(combined)\n",
        "\n",
        "fig, (ax1, ax2, ax3, ax4) = plt.subplots(1, 4, sharey=True)\n",
        "\n",
        "ax1.scatter(combined.iloc[:,0], combined.iloc[:,1], c=combined_AC.labels_)\n",
        "ax1.set_title('Agglomerative')\n",
        "\n",
        "ax2.scatter(combined.iloc[:,0], combined.iloc[:,1], c=combined_KMeans.labels_)\n",
        "ax2.set_title('k-means')\n",
        "\n",
        "ax3.scatter(combined.iloc[:,0], combined.iloc[:,1], c=combined_AP.labels_)\n",
        "ax3.set_title('Affinity Prop.')\n",
        "\n",
        "ax4.scatter(combined.iloc[:,0], combined.iloc[:,1], c=combined_DB.labels_)\n",
        "ax4.set_title('DBSCAN')"
      ],
      "execution_count": 25,
      "outputs": [
        {
          "output_type": "stream",
          "text": [
            "/usr/local/lib/python3.7/dist-packages/sklearn/cluster/_affinity_propagation.py:226: ConvergenceWarning: Affinity propagation did not converge, this model will not have any cluster centers.\n",
            "  \"will not have any cluster centers.\", ConvergenceWarning)\n"
          ],
          "name": "stderr"
        },
        {
          "output_type": "execute_result",
          "data": {
            "text/plain": [
              "Text(0.5, 1.0, 'DBSCAN')"
            ]
          },
          "metadata": {
            "tags": []
          },
          "execution_count": 25
        },
        {
          "output_type": "display_data",
          "data": {
            "image/png": "[encoded data removed]",
            "text/plain": [
              "<Figure size 432x288 with 4 Axes>"
            ]
          },
          "metadata": {
            "tags": [],
            "needs_background": "light"
          }
        }
      ]
    },
    {
      "cell_type": "code",
      "metadata": {
        "colab": {
          "base_uri": "https://localhost:8080/",
          "height": 663
        },
        "id": "Jh6POBNfGyZv",
        "outputId": "2c3bf59a-8954-40c6-9534-1618578c8c6d"
      },
      "source": [
        "sns.clustermap(data,\n",
        "               metric=\"correlation\",\n",
        "               standard_scale=1)"
      ],
      "execution_count": 26,
      "outputs": [
        {
          "output_type": "execute_result",
          "data": {
            "text/plain": [
              "<seaborn.matrix.ClusterGrid at 0x7f31c287af10>"
            ]
          },
          "metadata": {
            "tags": []
          },
          "execution_count": 26
        },
        {
          "output_type": "display_data",
          "data": {
            "image/png": "[encoded data removed]",
            "text/plain": [
              "<Figure size 720x720 with 4 Axes>"
            ]
          },
          "metadata": {
            "tags": [],
            "needs_background": "light"
          }
        }
      ]
    }
  ]
}