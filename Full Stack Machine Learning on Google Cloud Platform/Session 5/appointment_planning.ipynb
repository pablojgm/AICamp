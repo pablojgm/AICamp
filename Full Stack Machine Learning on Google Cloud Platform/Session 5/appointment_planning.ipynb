{
  "nbformat": 4,
  "nbformat_minor": 0,
  "metadata": {
    "colab": {
      "name": "appointment_planning.ipynb",
      "provenance": []
    },
    "kernelspec": {
      "name": "python3",
      "display_name": "Python 3"
    }
  },
  "cells": [
    {
      "cell_type": "code",
      "metadata": {
        "colab": {
          "base_uri": "https://localhost:8080/",
          "height": 316
        },
        "id": "D4PcYraGdEvW",
        "outputId": "cc82e0d0-78cd-4c1a-dd9e-773a50d14a9d"
      },
      "source": [
        "import pandas as pd\n",
        "data = pd.read_csv('appointment_project_1.csv')\n",
        "data.head()"
      ],
      "execution_count": null,
      "outputs": [
        {
          "output_type": "execute_result",
          "data": {
            "text/html": [
              "<div>\n",
              "<style scoped>\n",
              "    .dataframe tbody tr th:only-of-type {\n",
              "        vertical-align: middle;\n",
              "    }\n",
              "\n",
              "    .dataframe tbody tr th {\n",
              "        vertical-align: top;\n",
              "    }\n",
              "\n",
              "    .dataframe thead th {\n",
              "        text-align: right;\n",
              "    }\n",
              "</style>\n",
              "<table border=\"1\" class=\"dataframe\">\n",
              "  <thead>\n",
              "    <tr style=\"text-align: right;\">\n",
              "      <th></th>\n",
              "      <th>PatientId</th>\n",
              "      <th>AppointmentID</th>\n",
              "      <th>Gender</th>\n",
              "      <th>ScheduledDay</th>\n",
              "      <th>AppointmentDay</th>\n",
              "      <th>Age</th>\n",
              "      <th>Neighbourhood</th>\n",
              "      <th>Scholarship</th>\n",
              "      <th>Hipertension</th>\n",
              "      <th>Diabetes</th>\n",
              "      <th>Alcoholism</th>\n",
              "      <th>Handcap</th>\n",
              "      <th>SMS_received</th>\n",
              "      <th>No-show</th>\n",
              "    </tr>\n",
              "  </thead>\n",
              "  <tbody>\n",
              "    <tr>\n",
              "      <th>0</th>\n",
              "      <td>8.679510e+11</td>\n",
              "      <td>5642828</td>\n",
              "      <td>F</td>\n",
              "      <td>2016-04-29T17:29:31Z</td>\n",
              "      <td>2016-04-29T00:00:00Z</td>\n",
              "      <td>8</td>\n",
              "      <td>PONTAL DE CAMBURI</td>\n",
              "      <td>0</td>\n",
              "      <td>0</td>\n",
              "      <td>0</td>\n",
              "      <td>0</td>\n",
              "      <td>0</td>\n",
              "      <td>0</td>\n",
              "      <td>No</td>\n",
              "    </tr>\n",
              "    <tr>\n",
              "      <th>1</th>\n",
              "      <td>9.598510e+13</td>\n",
              "      <td>5626772</td>\n",
              "      <td>F</td>\n",
              "      <td>2016-04-27T08:36:51Z</td>\n",
              "      <td>2016-04-29T00:00:00Z</td>\n",
              "      <td>76</td>\n",
              "      <td>REPÚBLICA</td>\n",
              "      <td>0</td>\n",
              "      <td>1</td>\n",
              "      <td>0</td>\n",
              "      <td>0</td>\n",
              "      <td>0</td>\n",
              "      <td>0</td>\n",
              "      <td>No</td>\n",
              "    </tr>\n",
              "    <tr>\n",
              "      <th>2</th>\n",
              "      <td>8.457440e+13</td>\n",
              "      <td>5633121</td>\n",
              "      <td>M</td>\n",
              "      <td>2016-04-28T08:51:47Z</td>\n",
              "      <td>2016-04-29T00:00:00Z</td>\n",
              "      <td>50</td>\n",
              "      <td>NOVA PALESTINA</td>\n",
              "      <td>0</td>\n",
              "      <td>0</td>\n",
              "      <td>0</td>\n",
              "      <td>0</td>\n",
              "      <td>0</td>\n",
              "      <td>0</td>\n",
              "      <td>No</td>\n",
              "    </tr>\n",
              "    <tr>\n",
              "      <th>3</th>\n",
              "      <td>7.184430e+13</td>\n",
              "      <td>5638545</td>\n",
              "      <td>F</td>\n",
              "      <td>2016-04-29T08:08:43Z</td>\n",
              "      <td>2016-04-29T00:00:00Z</td>\n",
              "      <td>0</td>\n",
              "      <td>CONQUISTA</td>\n",
              "      <td>0</td>\n",
              "      <td>0</td>\n",
              "      <td>0</td>\n",
              "      <td>0</td>\n",
              "      <td>0</td>\n",
              "      <td>0</td>\n",
              "      <td>No</td>\n",
              "    </tr>\n",
              "    <tr>\n",
              "      <th>4</th>\n",
              "      <td>9.912880e+13</td>\n",
              "      <td>5597673</td>\n",
              "      <td>M</td>\n",
              "      <td>2016-04-18T17:53:25Z</td>\n",
              "      <td>2016-04-29T00:00:00Z</td>\n",
              "      <td>67</td>\n",
              "      <td>MARIA ORTIZ</td>\n",
              "      <td>0</td>\n",
              "      <td>0</td>\n",
              "      <td>0</td>\n",
              "      <td>0</td>\n",
              "      <td>0</td>\n",
              "      <td>1</td>\n",
              "      <td>Yes</td>\n",
              "    </tr>\n",
              "  </tbody>\n",
              "</table>\n",
              "</div>"
            ],
            "text/plain": [
              "      PatientId  AppointmentID Gender  ... Handcap SMS_received  No-show\n",
              "0  8.679510e+11        5642828      F  ...       0            0       No\n",
              "1  9.598510e+13        5626772      F  ...       0            0       No\n",
              "2  8.457440e+13        5633121      M  ...       0            0       No\n",
              "3  7.184430e+13        5638545      F  ...       0            0       No\n",
              "4  9.912880e+13        5597673      M  ...       0            1      Yes\n",
              "\n",
              "[5 rows x 14 columns]"
            ]
          },
          "metadata": {
            "tags": []
          },
          "execution_count": 9
        }
      ]
    },
    {
      "cell_type": "code",
      "metadata": {
        "id": "VkApLcT_dMx3"
      },
      "source": [
        "# Label column is 'Exited' for this dataset\n",
        "label = 'No-show'"
      ],
      "execution_count": null,
      "outputs": []
    },
    {
      "cell_type": "code",
      "metadata": {
        "id": "aTzchvxVdQ5x"
      },
      "source": [
        "# Rearrage the dataset columns\n",
        "cols = data.columns.tolist()\n",
        "colIdx = data.columns.get_loc(label)\n",
        "# Do nothing if the label is in the 0th position\n",
        "# Otherwise, change the order of columns to move label to 0th position\n",
        "if colIdx != 0:\n",
        "    cols = cols[colIdx:colIdx+1] + cols[0:colIdx] + cols[colIdx+1:]\n",
        "# Change the order of data so that label is in the 0th column\n",
        "modified_data = data[cols]"
      ],
      "execution_count": null,
      "outputs": []
    },
    {
      "cell_type": "code",
      "metadata": {
        "id": "ki0KejiQdYDE"
      },
      "source": [
        "# Remove the useless columns\n",
        "# Note that below code is a sample\n",
        "# Please change the value as you see fit\n",
        "useless_cols = ['PatientId', 'AppointmentID','ScheduledDay', 'AppointmentDay', 'Neighbourhood']\n",
        "modified_data = modified_data.drop(useless_cols, axis=1)"
      ],
      "execution_count": null,
      "outputs": []
    },
    {
      "cell_type": "code",
      "metadata": {
        "id": "ZNvq9jytda0N"
      },
      "source": [
        "# One hot encode the categorical columns\n",
        "from sklearn.preprocessing import OneHotEncoder\n",
        "from scipy import sparse\n",
        "cat_columns = ['Gender']\n",
        "one_hot_encode_model = OneHotEncoder(handle_unknown='ignore').fit(modified_data[cat_columns])\n",
        "new_features = one_hot_encode_model.transform(modified_data[cat_columns])\n",
        "new_feature_names = one_hot_encode_model.get_feature_names(cat_columns)\n",
        "if (sparse.issparse(new_features)):\n",
        "  new_features = new_features.toarray()\n",
        "dataframe = pd.DataFrame(new_features, columns=new_feature_names)\n",
        "modified_data = modified_data.drop(cat_columns, axis=1)\n",
        "modified_data = pd.concat([modified_data, dataframe], axis=1)"
      ],
      "execution_count": null,
      "outputs": []
    },
    {
      "cell_type": "code",
      "metadata": {
        "colab": {
          "base_uri": "https://localhost:8080/",
          "height": 232
        },
        "id": "uH9uWW6idpMs",
        "outputId": "84eb86b2-c148-4ee2-fb48-368fb8375683"
      },
      "source": [
        "# Encode the label column to a number\n",
        "modified_data[label] = pd.Categorical(modified_data[label])\n",
        "modified_data[label] = modified_data[label].cat.codes\n",
        "modified_data.head()"
      ],
      "execution_count": null,
      "outputs": [
        {
          "output_type": "execute_result",
          "data": {
            "text/html": [
              "<div>\n",
              "<style scoped>\n",
              "    .dataframe tbody tr th:only-of-type {\n",
              "        vertical-align: middle;\n",
              "    }\n",
              "\n",
              "    .dataframe tbody tr th {\n",
              "        vertical-align: top;\n",
              "    }\n",
              "\n",
              "    .dataframe thead th {\n",
              "        text-align: right;\n",
              "    }\n",
              "</style>\n",
              "<table border=\"1\" class=\"dataframe\">\n",
              "  <thead>\n",
              "    <tr style=\"text-align: right;\">\n",
              "      <th></th>\n",
              "      <th>No-show</th>\n",
              "      <th>Age</th>\n",
              "      <th>Scholarship</th>\n",
              "      <th>Hipertension</th>\n",
              "      <th>Diabetes</th>\n",
              "      <th>Alcoholism</th>\n",
              "      <th>Handcap</th>\n",
              "      <th>SMS_received</th>\n",
              "      <th>Gender_F</th>\n",
              "      <th>Gender_M</th>\n",
              "    </tr>\n",
              "  </thead>\n",
              "  <tbody>\n",
              "    <tr>\n",
              "      <th>0</th>\n",
              "      <td>0</td>\n",
              "      <td>8</td>\n",
              "      <td>0</td>\n",
              "      <td>0</td>\n",
              "      <td>0</td>\n",
              "      <td>0</td>\n",
              "      <td>0</td>\n",
              "      <td>0</td>\n",
              "      <td>1.0</td>\n",
              "      <td>0.0</td>\n",
              "    </tr>\n",
              "    <tr>\n",
              "      <th>1</th>\n",
              "      <td>0</td>\n",
              "      <td>76</td>\n",
              "      <td>0</td>\n",
              "      <td>1</td>\n",
              "      <td>0</td>\n",
              "      <td>0</td>\n",
              "      <td>0</td>\n",
              "      <td>0</td>\n",
              "      <td>1.0</td>\n",
              "      <td>0.0</td>\n",
              "    </tr>\n",
              "    <tr>\n",
              "      <th>2</th>\n",
              "      <td>0</td>\n",
              "      <td>50</td>\n",
              "      <td>0</td>\n",
              "      <td>0</td>\n",
              "      <td>0</td>\n",
              "      <td>0</td>\n",
              "      <td>0</td>\n",
              "      <td>0</td>\n",
              "      <td>0.0</td>\n",
              "      <td>1.0</td>\n",
              "    </tr>\n",
              "    <tr>\n",
              "      <th>3</th>\n",
              "      <td>0</td>\n",
              "      <td>0</td>\n",
              "      <td>0</td>\n",
              "      <td>0</td>\n",
              "      <td>0</td>\n",
              "      <td>0</td>\n",
              "      <td>0</td>\n",
              "      <td>0</td>\n",
              "      <td>1.0</td>\n",
              "      <td>0.0</td>\n",
              "    </tr>\n",
              "    <tr>\n",
              "      <th>4</th>\n",
              "      <td>1</td>\n",
              "      <td>67</td>\n",
              "      <td>0</td>\n",
              "      <td>0</td>\n",
              "      <td>0</td>\n",
              "      <td>0</td>\n",
              "      <td>0</td>\n",
              "      <td>1</td>\n",
              "      <td>0.0</td>\n",
              "      <td>1.0</td>\n",
              "    </tr>\n",
              "  </tbody>\n",
              "</table>\n",
              "</div>"
            ],
            "text/plain": [
              "   No-show  Age  Scholarship  ...  SMS_received  Gender_F  Gender_M\n",
              "0        0    8            0  ...             0       1.0       0.0\n",
              "1        0   76            0  ...             0       1.0       0.0\n",
              "2        0   50            0  ...             0       0.0       1.0\n",
              "3        0    0            0  ...             0       1.0       0.0\n",
              "4        1   67            0  ...             1       0.0       1.0\n",
              "\n",
              "[5 rows x 10 columns]"
            ]
          },
          "metadata": {
            "tags": []
          },
          "execution_count": 17
        }
      ]
    },
    {
      "cell_type": "code",
      "metadata": {
        "colab": {
          "base_uri": "https://localhost:8080/"
        },
        "id": "d9pDrD1NeVIC",
        "outputId": "dfec0b4a-b047-4887-ea7e-400fac25c4fa"
      },
      "source": [
        "modified_data.columns"
      ],
      "execution_count": null,
      "outputs": [
        {
          "output_type": "execute_result",
          "data": {
            "text/plain": [
              "Index(['No-show', 'Age', 'Scholarship', 'Hipertension', 'Diabetes',\n",
              "       'Alcoholism', 'Handcap', 'SMS_received', 'Gender_F', 'Gender_M'],\n",
              "      dtype='object')"
            ]
          },
          "metadata": {
            "tags": []
          },
          "execution_count": 19
        }
      ]
    },
    {
      "cell_type": "code",
      "metadata": {
        "id": "WCP8Gf4kdhcG"
      },
      "source": [
        "# Convert the data to float\n",
        "modified_data = modified_data.astype('float')\n",
        "modified_data[label] = modified_data[label].astype('int')\n",
        "# Write the dataset as a csv\n",
        "modified_data.to_csv('./appointment_planning_modified.csv', index=False, header = False)"
      ],
      "execution_count": null,
      "outputs": []
    }
  ]
}