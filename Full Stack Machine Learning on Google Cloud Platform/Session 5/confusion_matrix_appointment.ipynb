{
  "nbformat": 4,
  "nbformat_minor": 0,
  "metadata": {
    "colab": {
      "name": "confusion_matrix_appointment.ipynb",
      "provenance": []
    },
    "kernelspec": {
      "name": "python3",
      "display_name": "Python 3"
    }
  },
  "cells": [
    {
      "cell_type": "code",
      "metadata": {
        "id": "f2-nPlHjqCzU"
      },
      "source": [
        "import pandas as pd\n",
        "data = pd.read_csv('./appointment_planning_modified.csv',\n",
        "                   names=['No-show','Age', 'Scholarship', 'Hipertension', 'Diabetes', 'Alcoholism', 'Handcap', 'SMS_received', 'Gender_F', 'Gender_M'],\n",
        "                   header = None)"
      ],
      "execution_count": null,
      "outputs": []
    },
    {
      "cell_type": "code",
      "metadata": {
        "id": "onldAKIJqV8A"
      },
      "source": [
        "# Helper function to make predictions\n",
        "import requests\n",
        "import json\n",
        "def get_prediction(data):\n",
        "  url = 'https://us-central1-aicamp-sindhu.cloudfunctions.net/function-3'\n",
        "  r = requests.post(url, json=data)\n",
        "  response = getattr(r,'_content').decode(\"utf-8\")\n",
        "  return response"
      ],
      "execution_count": null,
      "outputs": []
    },
    {
      "cell_type": "code",
      "metadata": {
        "id": "z9DDDGHDq_bQ"
      },
      "source": [
        "# Convert the data into a list of dictionaries\n",
        "data_training_dict = data.to_dict('records')"
      ],
      "execution_count": null,
      "outputs": []
    },
    {
      "cell_type": "code",
      "metadata": {
        "colab": {
          "base_uri": "https://localhost:8080/"
        },
        "id": "yIFDkB84rHNs",
        "outputId": "70be2b49-b725-42c2-fa8a-9440b6c1c201"
      },
      "source": [
        "import numpy as np\n",
        "# Initialize the confusion matrix to be all 0s\n",
        "confusion_matrix = {'TP':0,'FP':0,'FN':0,'TN':0}\n",
        "# Iterate over N samples in the dataset\n",
        "N = 100\n",
        "# N = len(data)\n",
        "for i in range(0,N):\n",
        "  # Get prediction\n",
        "  rest_response = get_prediction(data_training_dict[i])\n",
        "  # json load to convert string response to a list\n",
        "  response_list = json.loads(rest_response)\n",
        "  # get the first value in the list\n",
        "  response = json.loads(rest_response)[0]\n",
        "  # convert the probability value to a class \n",
        "  # Assuming 0.5 as the threshold\n",
        "  prediction_class = np.rint(response)\n",
        "  # Get the true label       \n",
        "  label = data_training_dict[i]['No-show']\n",
        "  # Compare the true label with AI prediction\n",
        "  # to fill the values of the confusion matrix\n",
        "  if label == 0 and prediction_class == label:\n",
        "    confusion_matrix['TP'] += 1\n",
        "  elif label == 0 and prediction_class != label:\n",
        "    confusion_matrix['FP'] += 1\n",
        "  elif label == 1 and prediction_class != label:\n",
        "    confusion_matrix['FN'] += 1\n",
        "  else:\n",
        "    confusion_matrix['TN'] += 1\n",
        "\n",
        "print(confusion_matrix)"
      ],
      "execution_count": null,
      "outputs": [
        {
          "output_type": "stream",
          "text": [
            "{'TP': 88, 'FP': 0, 'FN': 12, 'TN': 0}\n"
          ],
          "name": "stdout"
        }
      ]
    }
  ]
}